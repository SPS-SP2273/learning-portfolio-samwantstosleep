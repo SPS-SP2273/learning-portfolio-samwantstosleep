{
 "cells": [
  {
   "cell_type": "markdown",
   "id": "123456",
   "metadata": {},
   "source": [
    "<div style=\"text-align:left;font-size:2em\"><span style=\"font-weight:bolder;font-size:1.25em\">SP2273 | Learning Portfolio</span><br><br><span style=\"font-weight:bold;color:darkred\">Functions (Good) Exercises</span></div>"
   ]
  },
  {
   "cell_type": "markdown",
   "id": "bcadd094",
   "metadata": {},
   "source": [
    "### Exercise 1 (convert celsius to farenheit or kelvin)"
   ]
  },
  {
   "cell_type": "code",
   "execution_count": 1,
   "id": "90f0b2d9",
   "metadata": {},
   "outputs": [],
   "source": [
    "def convert_celsius(temperature_celsius, target_scale = 'Fahrenheit'):\n",
    "    try:\n",
    "        tempc = float(temperature_celsius)\n",
    "        ts = str(target_scale)\n",
    "        \n",
    "        if ts == 'Kelvin':\n",
    "            return (tempc + 273.15)\n",
    "        else:\n",
    "            return((tempc * 1.8) + 32)\n",
    "    except ValueError:\n",
    "        return(\"input number, 'Kelvin'. if not default is Fahrenheit\")"
   ]
  },
  {
   "cell_type": "code",
   "execution_count": 2,
   "id": "6747dae6",
   "metadata": {},
   "outputs": [
    {
     "name": "stdout",
     "output_type": "stream",
     "text": [
      "298.15\n",
      "77.0\n",
      "input number, 'Kelvin'. if not default is Fahrenheit\n"
     ]
    }
   ],
   "source": [
    "print(convert_celsius(25, 'Kelvin'))\n",
    "print(convert_celsius(25))\n",
    "print(convert_celsius('m', 24))\n",
    "#yay it works"
   ]
  },
  {
   "cell_type": "markdown",
   "id": "752d3e50",
   "metadata": {},
   "source": [
    "### Exercise 2 (fahrenheit to celsius or kelvin)"
   ]
  },
  {
   "cell_type": "code",
   "execution_count": 3,
   "id": "ff173a93",
   "metadata": {},
   "outputs": [],
   "source": [
    "def convert_fah(temp_fah, target_scale = 'Celsius'):\n",
    "    try:\n",
    "        tempf = float(temp_fah)\n",
    "        tss = str(target_scale)\n",
    "        \n",
    "        if tss == 'Kelvin':\n",
    "            return ((tempf - 32) * (5/9) + 273)\n",
    "        else:\n",
    "            return ((tempf - 32) * (5/9))\n",
    "    except ValueError:\n",
    "        return(\"input number, 'Kelvin'. if not default is Celsius\")"
   ]
  },
  {
   "cell_type": "code",
   "execution_count": 4,
   "id": "b46409e2",
   "metadata": {},
   "outputs": [
    {
     "name": "stdout",
     "output_type": "stream",
     "text": [
      "269.1111111111111\n",
      "-3.8888888888888893\n",
      "input number, 'Kelvin'. if not default is Celsius\n"
     ]
    }
   ],
   "source": [
    "print(convert_fah(25, 'Kelvin'))\n",
    "print(convert_fah(25))\n",
    "print(convert_fah('m', 24))\n",
    "#isn't this the same thing as exercise 1 but with a different formula?????????"
   ]
  },
  {
   "cell_type": "markdown",
   "id": "61c15912",
   "metadata": {},
   "source": [
    "### Exercise 3 (general temperature converter)"
   ]
  },
  {
   "cell_type": "code",
   "execution_count": 5,
   "id": "7b67949b",
   "metadata": {},
   "outputs": [],
   "source": [
    "def convert_k(temp_kel, target_scale = 'Celsius'):\n",
    "    try:\n",
    "        tempk = float(temp_kel)\n",
    "        tgs = str(target_scale)\n",
    "        \n",
    "        if tgs == 'Fahrenheit':\n",
    "            return ((tempk - 273.15) * 1.8 + 32)\n",
    "        else:\n",
    "            return (tempk - 273.15)\n",
    "    except ValueError:\n",
    "        return(\"input number, 'Fahrenheit'. if not default is Celsius\")\n",
    "    "
   ]
  },
  {
   "cell_type": "code",
   "execution_count": 16,
   "id": "48fca2e3",
   "metadata": {},
   "outputs": [
    {
     "name": "stdout",
     "output_type": "stream",
     "text": [
      "80.33000000000004\n",
      "26.850000000000023\n",
      "421.8888888888889\n",
      "148.88888888888889\n",
      "bleh\n"
     ]
    }
   ],
   "source": [
    "#KF, KC, FK, FC, CK, CF\n",
    "def convtemp(temperature, source_scale, target_scale = 'Celsius'):\n",
    "    try:\n",
    "        temp = float(temperature)\n",
    "        ss = str(source_scale)\n",
    "        tS = str(target_scale)\n",
    "        \n",
    "        if ss == 'Kelvin':\n",
    "            return convert_k(temp, tS)\n",
    "        elif ss == 'Fahrenheit':\n",
    "            return convert_fah(temp, tS)\n",
    "        elif ss == 'Celsius'and tS == 'Fahrenheit':\n",
    "            return convert_celsius(temp, 'Fahrenheit')\n",
    "        elif ss == 'Celsius' and tS == 'Kelvin':\n",
    "            return convert_celsius(temp, 'Kelvin')\n",
    "        else:\n",
    "            return 'bleh'\n",
    "        \n",
    "    except ValueError:\n",
    "        print('eh')\n",
    "        \n",
    "print(convtemp(300, 'Kelvin', 'Fahrenheit'))\n",
    "print(convtemp(300, 'Kelvin'))\n",
    "print(convtemp(300, 'Fahrenheit', 'Kelvin'))\n",
    "print(convtemp(300, 'Fahrenheit'))\n",
    "print(convtemp(300, 'Celsius'))"
   ]
  }
 ],
 "metadata": {
  "kernelspec": {
   "display_name": "Python 3 (ipykernel)",
   "language": "python",
   "name": "python3"
  },
  "language_info": {
   "codemirror_mode": {
    "name": "ipython",
    "version": 3
   },
   "file_extension": ".py",
   "mimetype": "text/x-python",
   "name": "python",
   "nbconvert_exporter": "python",
   "pygments_lexer": "ipython3",
   "version": "3.11.5"
  },
  "toc": {
   "base_numbering": 1,
   "nav_menu": {},
   "number_sections": true,
   "sideBar": true,
   "skip_h1_title": false,
   "title_cell": "Table of Contents",
   "title_sidebar": "Contents",
   "toc_cell": false,
   "toc_position": {},
   "toc_section_display": true,
   "toc_window_display": false
  },
  "varInspector": {
   "cols": {
    "lenName": 16,
    "lenType": 16,
    "lenVar": 40
   },
   "kernels_config": {
    "python": {
     "delete_cmd_postfix": "",
     "delete_cmd_prefix": "del ",
     "library": "var_list.py",
     "varRefreshCmd": "print(var_dic_list())"
    },
    "r": {
     "delete_cmd_postfix": ") ",
     "delete_cmd_prefix": "rm(",
     "library": "var_list.r",
     "varRefreshCmd": "cat(var_dic_list()) "
    }
   },
   "types_to_exclude": [
    "module",
    "function",
    "builtin_function_or_method",
    "instance",
    "_Feature"
   ],
   "window_display": false
  },
  "vscode": {
   "interpreter": {
    "hash": "31f2aee4e71d21fbe5cf8b01ff0e069b9275f58929596ceb00d14d90e3e16cd6"
   }
  }
 },
 "nbformat": 4,
 "nbformat_minor": 5
}
