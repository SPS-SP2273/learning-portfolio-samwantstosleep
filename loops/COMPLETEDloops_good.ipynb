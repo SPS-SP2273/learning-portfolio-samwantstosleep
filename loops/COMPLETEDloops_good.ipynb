{
 "cells": [
  {
   "cell_type": "markdown",
   "id": "4d5db47f",
   "metadata": {},
   "source": [
    "# interrupting the loop flow"
   ]
  },
  {
   "cell_type": "code",
   "execution_count": 1,
   "id": "2ddba103",
   "metadata": {},
   "outputs": [
    {
     "name": "stdout",
     "output_type": "stream",
     "text": [
      "0: 1\n",
      "1: 10\n",
      "2: 100\n",
      "3: 1000\n",
      "4: 10000\n"
     ]
    }
   ],
   "source": [
    "for power in range(5):\n",
    "    number = 10 ** power\n",
    "    if number > 10000:\n",
    "        break #stops the if loop if number>10000\n",
    "    print(f'{power}: {number}')    "
   ]
  },
  {
   "cell_type": "code",
   "execution_count": 2,
   "id": "feafdb96",
   "metadata": {},
   "outputs": [
    {
     "name": "stdout",
     "output_type": "stream",
     "text": [
      "0: 1\n",
      "1: 10\n",
      "2: 100\n",
      "4: 10000\n"
     ]
    }
   ],
   "source": [
    "for up in range(5):\n",
    "    if up == 3:\n",
    "        continue #skips i=3 and continues loop\n",
    "    nuumber = 10 ** up\n",
    "    print(f'{up}: {nuumber}')"
   ]
  },
  {
   "cell_type": "code",
   "execution_count": 4,
   "id": "1921a125",
   "metadata": {},
   "outputs": [
    {
     "name": "stdout",
     "output_type": "stream",
     "text": [
      "1\n",
      "3\n",
      "5\n",
      "7\n",
      "9\n"
     ]
    }
   ],
   "source": [
    "for evennumber in range(11):\n",
    "    if evennumber % 2 != 1:\n",
    "        continue\n",
    "    print(evennumber)\n",
    "    #basically, the point of this is to how to to interrupt loops\n",
    "    #with break and continue\n",
    "    #this also works with while loops"
   ]
  },
  {
   "cell_type": "markdown",
   "id": "16b5b341",
   "metadata": {},
   "source": [
    "# more convenient ways for making lists"
   ]
  },
  {
   "cell_type": "code",
   "execution_count": 5,
   "id": "6585fcbf",
   "metadata": {},
   "outputs": [
    {
     "name": "stdout",
     "output_type": "stream",
     "text": [
      "[0, 1, 2, 3, 4, 5]\n"
     ]
    }
   ],
   "source": [
    "x = [n for n in range(6)]\n",
    "print(x)\n",
    "#shorter way of making a list"
   ]
  },
  {
   "cell_type": "code",
   "execution_count": 6,
   "id": "1b55e7e0",
   "metadata": {},
   "outputs": [
    {
     "name": "stdout",
     "output_type": "stream",
     "text": [
      "[0, 2, 4, 6, 8, 10]\n"
     ]
    }
   ],
   "source": [
    "y = [r for r in range(11) if r % 2 == 0]\n",
    "print(y)\n",
    "#shorther syntax to add conditions to  a list"
   ]
  },
  {
   "cell_type": "markdown",
   "id": "d54c2838",
   "metadata": {},
   "source": [
    "# other useful stuff :D"
   ]
  },
  {
   "cell_type": "code",
   "execution_count": 7,
   "id": "0f248654",
   "metadata": {},
   "outputs": [
    {
     "name": "stdout",
     "output_type": "stream",
     "text": [
      "a = 1, b = 2, c = 3\n"
     ]
    }
   ],
   "source": [
    "#unpacking. more useful for 2D lists\n",
    "a, b, c = [1,2,3]\n",
    "print(f'a = {a}, b = {b}, c = {c}')"
   ]
  },
  {
   "cell_type": "code",
   "execution_count": 8,
   "id": "cddfd9c7",
   "metadata": {},
   "outputs": [
    {
     "name": "stdout",
     "output_type": "stream",
     "text": [
      "pikachu is overrated.\n",
      "eevee is the best.\n",
      "psyduck is a mood.\n",
      "magikarp is very cute.\n"
     ]
    }
   ],
   "source": [
    "pokemon_info = [['pikachu', 'overrated'], ['eevee', 'the best'], ['psyduck', 'a mood'], ['magikarp', 'very cute']]\n",
    "\n",
    "for name, sentiment in pokemon_info:\n",
    "    print(f'{name} is {sentiment}.')"
   ]
  },
  {
   "cell_type": "code",
   "execution_count": 10,
   "id": "f81f55ef",
   "metadata": {},
   "outputs": [
    {
     "name": "stdout",
     "output_type": "stream",
     "text": [
      "I think beethoven is an emo angry king <3 i love him\n",
      "I think chopin is great for heartbreak moody music\n",
      "I think tchaikovsky is amazing but why did he date his cousin\n"
     ]
    }
   ],
   "source": [
    "composers = ['beethoven', 'chopin', 'tchaikovsky']\n",
    "whatithink = ['an emo angry king <3 i love him', 'great for heartbreak moody music', 'amazing but why did he date his cousin']\n",
    "\n",
    "for composer, thoughts in zip(composers, whatithink):\n",
    "    print(f'I think {composer} is {thoughts}')"
   ]
  },
  {
   "cell_type": "code",
   "execution_count": 11,
   "id": "0fc33235",
   "metadata": {},
   "outputs": [
    {
     "name": "stdout",
     "output_type": "stream",
     "text": [
      "les miserables FRENCH is amazing\n",
      "les miserables ENGLISH is horrible translation\n",
      "wicked is wonderful amazing best\n",
      "phantom of the opera is trash. dont bother\n"
     ]
    }
   ],
   "source": [
    "musicals_info = {'les miserables FRENCH': 'amazing', 'les miserables ENGLISH': 'horrible translation',\n",
    "                'wicked': 'wonderful amazing best', 'phantom of the opera': 'trash. dont bother'}\n",
    "\n",
    "for key, value in musicals_info.items():\n",
    "    print(f'{key} is {value}')\n",
    "    #use .items() to spit out both the key and value"
   ]
  },
  {
   "cell_type": "code",
   "execution_count": 12,
   "id": "972ec312",
   "metadata": {},
   "outputs": [
    {
     "name": "stdout",
     "output_type": "stream",
     "text": [
      "les miserables FRENCH amazing\n",
      "les miserables ENGLISH horrible translation\n",
      "wicked wonderful amazing best\n",
      "phantom of the opera trash. dont bother\n"
     ]
    }
   ],
   "source": [
    "for key in musicals_info.keys():\n",
    "    value = musicals_info[key]\n",
    "    print(key, value)\n",
    "    \n",
    "#use .keys() to access keys. get values by indexing"
   ]
  }
 ],
 "metadata": {
  "kernelspec": {
   "display_name": "Python 3 (ipykernel)",
   "language": "python",
   "name": "python3"
  },
  "language_info": {
   "codemirror_mode": {
    "name": "ipython",
    "version": 3
   },
   "file_extension": ".py",
   "mimetype": "text/x-python",
   "name": "python",
   "nbconvert_exporter": "python",
   "pygments_lexer": "ipython3",
   "version": "3.11.5"
  },
  "toc": {
   "base_numbering": 1,
   "nav_menu": {},
   "number_sections": true,
   "sideBar": true,
   "skip_h1_title": false,
   "title_cell": "Table of Contents",
   "title_sidebar": "Contents",
   "toc_cell": false,
   "toc_position": {},
   "toc_section_display": true,
   "toc_window_display": false
  },
  "varInspector": {
   "cols": {
    "lenName": 16,
    "lenType": 16,
    "lenVar": 40
   },
   "kernels_config": {
    "python": {
     "delete_cmd_postfix": "",
     "delete_cmd_prefix": "del ",
     "library": "var_list.py",
     "varRefreshCmd": "print(var_dic_list())"
    },
    "r": {
     "delete_cmd_postfix": ") ",
     "delete_cmd_prefix": "rm(",
     "library": "var_list.r",
     "varRefreshCmd": "cat(var_dic_list()) "
    }
   },
   "types_to_exclude": [
    "module",
    "function",
    "builtin_function_or_method",
    "instance",
    "_Feature"
   ],
   "window_display": false
  }
 },
 "nbformat": 4,
 "nbformat_minor": 5
}
