{
 "cells": [
  {
   "cell_type": "markdown",
   "id": "be86bd59",
   "metadata": {},
   "source": [
    "# lists, arrays and dictionaries :D"
   ]
  },
  {
   "cell_type": "code",
   "execution_count": 1,
   "id": "80dcd9be",
   "metadata": {},
   "outputs": [],
   "source": [
    "import numpy as np"
   ]
  },
  {
   "cell_type": "code",
   "execution_count": 2,
   "id": "9ca007b7",
   "metadata": {},
   "outputs": [],
   "source": [
    "listpokemon_names = ['psyduck', 'eevee', 'magikarp']\n",
    "listpokemon_real = ['duck', 'fox', 'fish']  # these are lists\n",
    "\n",
    "arraypokemon_names = np.array(['psyduck', 'eevee', 'magikarp'])\n",
    "# and these are numpy arrays\n",
    "arraypokemon_real = np.array(['duck', 'fox', 'fish'])\n",
    "\n",
    "pokemon_info = {\n",
    "    'psyduck': 'duck',\n",
    "    'eevee': 'fox',\n",
    "    'magikarp': 'fish'\n",
    "}  # and this is a dictionary. remember the commas."
   ]
  },
  {
   "cell_type": "code",
   "execution_count": 3,
   "id": "44bd0977",
   "metadata": {},
   "outputs": [
    {
     "name": "stdout",
     "output_type": "stream",
     "text": [
      "psyduck\n"
     ]
    }
   ],
   "source": [
    "#first thing in the list/array/dictionary is index 0\n",
    "\n",
    "#tis how you access things in list\n",
    "print(listpokemon_names[0]) \n",
    "print(listpokemon_real[-1]) #negative indexing is a thing too. no need to know list size :D"
   ]
  },
  {
   "cell_type": "code",
   "execution_count": 6,
   "id": "ffeef658",
   "metadata": {},
   "outputs": [
    {
     "name": "stdout",
     "output_type": "stream",
     "text": [
      "dict_keys(['psyduck', 'eevee', 'magikarp'])\n",
      "dict_values(['duck', 'fox', 'fish'])\n"
     ]
    }
   ],
   "source": [
    "#tis how you access things in dictionaries\n",
    "pokemon_info['eevee'] #get value (fox) for key (eevee)\n",
    "\n",
    "print(pokemon_info.keys()) #get all keys\n",
    "print(pokemon_info.values()) #get all values. basically the socalled definition"
   ]
  },
  {
   "cell_type": "code",
   "execution_count": 7,
   "id": "8a7d1439",
   "metadata": {},
   "outputs": [],
   "source": [
    "py_pokemoninfo = [['psyduck', 'duck'], ['eevee', 'fox'], ['magikarp', 'fish']] #store a list in a list (an array)"
   ]
  },
  {
   "cell_type": "markdown",
   "id": "8404de27",
   "metadata": {},
   "source": [
    "# list vs array\n",
    "lists can have multiple variable types. arrays can only have 1"
   ]
  },
  {
   "cell_type": "code",
   "execution_count": 9,
   "id": "b4477bdc",
   "metadata": {},
   "outputs": [
    {
     "name": "stdout",
     "output_type": "stream",
     "text": [
      "list length is 10\n",
      "array length is 10\n",
      "array shape is (10, 2)\n"
     ]
    }
   ],
   "source": [
    "py_list_2d = [[1, \"A\"], [2, \"B\"], [3, \"C\"], [4, \"D\"],\n",
    "              [5, \"E\"], [6, \"F\"], [7, \"G\"], [8, \"H\"],\n",
    "              [9, \"I\"], [10, \"J\"]]\n",
    "\n",
    "np_array_2d = np.array(py_list_2d)      # Reusing the Python list \n",
    "                                        # to create a NEW\n",
    "                                        # NumPy array\n",
    "print('list length is', len(py_list_2d))\n",
    "print('array length is', len (np_array_2d))\n",
    "print('array shape is', np_array_2d.shape)"
   ]
  },
  {
   "cell_type": "code",
   "execution_count": 14,
   "id": "3cb5498b",
   "metadata": {},
   "outputs": [
    {
     "name": "stdout",
     "output_type": "stream",
     "text": [
      "[11 12 13 14 15]\n"
     ]
    }
   ],
   "source": [
    "pylist = [1,2,3,4,5]\n",
    "nparray = np.array(pylist)\n",
    "\n",
    "print(nparray + 10) #this works\n",
    "#print(pylist + 10) but this doesnt"
   ]
  },
  {
   "cell_type": "code",
   "execution_count": 15,
   "id": "76f25a10",
   "metadata": {},
   "outputs": [
    {
     "name": "stdout",
     "output_type": "stream",
     "text": [
      "[1, 2, 3, 4, 5, 10, 20, 30, 40, 50]\n",
      "[11 22 33 44 55]\n"
     ]
    }
   ],
   "source": [
    "pylist1 = [1,2,3,4,5]\n",
    "pylist2 = [10,20,30,40,50]\n",
    "\n",
    "array1 = np.array(pylist1)\n",
    "array2 = np.array(pylist2)\n",
    "\n",
    "print(pylist1 + pylist2) #the list grows\n",
    "print(array1 + array2) #the values in the array get added\n",
    "\n",
    "#multiplying a list makes x more of the values in the list\n",
    "#multiplying an array multiplies each value by x\n",
    "\n",
    "#can't square a list, but can square an array\n",
    "#can't ask questions to a list, but can to an array\n",
    "\n",
    "#can use base python math functions on both\n",
    "#but can't use the dots on list, can for arrays"
   ]
  }
 ],
 "metadata": {
  "kernelspec": {
   "display_name": "Python 3 (ipykernel)",
   "language": "python",
   "name": "python3"
  },
  "language_info": {
   "codemirror_mode": {
    "name": "ipython",
    "version": 3
   },
   "file_extension": ".py",
   "mimetype": "text/x-python",
   "name": "python",
   "nbconvert_exporter": "python",
   "pygments_lexer": "ipython3",
   "version": "3.11.5"
  },
  "toc": {
   "base_numbering": 1,
   "nav_menu": {},
   "number_sections": true,
   "sideBar": true,
   "skip_h1_title": false,
   "title_cell": "Table of Contents",
   "title_sidebar": "Contents",
   "toc_cell": false,
   "toc_position": {},
   "toc_section_display": true,
   "toc_window_display": false
  },
  "varInspector": {
   "cols": {
    "lenName": 16,
    "lenType": 16,
    "lenVar": 40
   },
   "kernels_config": {
    "python": {
     "delete_cmd_postfix": "",
     "delete_cmd_prefix": "del ",
     "library": "var_list.py",
     "varRefreshCmd": "print(var_dic_list())"
    },
    "r": {
     "delete_cmd_postfix": ") ",
     "delete_cmd_prefix": "rm(",
     "library": "var_list.r",
     "varRefreshCmd": "cat(var_dic_list()) "
    }
   },
   "position": {
    "height": "144.852px",
    "left": "997px",
    "right": "20px",
    "top": "120px",
    "width": "350px"
   },
   "types_to_exclude": [
    "module",
    "function",
    "builtin_function_or_method",
    "instance",
    "_Feature"
   ],
   "window_display": false
  }
 },
 "nbformat": 4,
 "nbformat_minor": 5
}
