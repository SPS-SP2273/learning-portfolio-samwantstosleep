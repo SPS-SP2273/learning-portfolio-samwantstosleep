{
 "cells": [
  {
   "cell_type": "markdown",
   "id": "f74eb851",
   "metadata": {},
   "source": [
    "# normal for loops :D"
   ]
  },
  {
   "cell_type": "code",
   "execution_count": 2,
   "id": "47353a9e",
   "metadata": {},
   "outputs": [
    {
     "name": "stdout",
     "output_type": "stream",
     "text": [
      "pikachu is a pokemon\n",
      "eevee is a pokemon\n",
      "psyduck is a pokemon\n",
      "magikarp is a pokemon\n"
     ]
    }
   ],
   "source": [
    "sentiments = ['overrated', 'best', 'mood', 'cute']\n",
    "pokemon = ['pikachu', 'eevee', 'psyduck', 'magikarp']\n",
    "\n",
    "for name in pokemon:\n",
    "    print(f'{name} is a pokemon')"
   ]
  },
  {
   "cell_type": "markdown",
   "id": "faa0a770",
   "metadata": {},
   "source": [
    "# enumerate for loops :("
   ]
  },
  {
   "cell_type": "code",
   "execution_count": 4,
   "id": "3c0f4d39",
   "metadata": {},
   "outputs": [
    {
     "name": "stdout",
     "output_type": "stream",
     "text": [
      "0: pikachu\n",
      "1: eevee\n",
      "2: psyduck\n",
      "3: magikarp\n"
     ]
    }
   ],
   "source": [
    "for count, name in enumerate(pokemon):\n",
    "    print(f'{count}: {name}')\n",
    "    \n",
    "#basically enumerate keeps count of stuff (see the 0,1,2,3)    "
   ]
  },
  {
   "cell_type": "code",
   "execution_count": 5,
   "id": "4d9cef3e",
   "metadata": {},
   "outputs": [
    {
     "name": "stdout",
     "output_type": "stream",
     "text": [
      "pikachu is overrated\n",
      "eevee is best\n",
      "psyduck is mood\n",
      "magikarp is cute\n"
     ]
    }
   ],
   "source": [
    "for index, name in enumerate(pokemon):\n",
    "    sentimon = sentiments[index]\n",
    "    print(f'{name} is {sentimon}')\n",
    "#index is the for loop thing for list1\n",
    "#name is the for loop thing for list2"
   ]
  },
  {
   "cell_type": "markdown",
   "id": "d56e4a89",
   "metadata": {},
   "source": [
    "# with range for loops :\\"
   ]
  },
  {
   "cell_type": "code",
   "execution_count": 6,
   "id": "c4b706fd",
   "metadata": {},
   "outputs": [
    {
     "name": "stdout",
     "output_type": "stream",
     "text": [
      "63\n"
     ]
    }
   ],
   "source": [
    "start = 0\n",
    "\n",
    "for i in range(1,250,4):\n",
    "    start += 1\n",
    "    #range(startnumber, end number not inclusive, step)\n",
    "    \n",
    "\n",
    "print(start)    "
   ]
  },
  {
   "cell_type": "code",
   "execution_count": 7,
   "id": "0feb7fa4",
   "metadata": {},
   "outputs": [
    {
     "name": "stdout",
     "output_type": "stream",
     "text": [
      "pikachu is overrated\n",
      "eevee is best\n",
      "psyduck is mood\n",
      "magikarp is cute\n"
     ]
    }
   ],
   "source": [
    "for i in range(len(pokemon)):\n",
    "    pokename = pokemon[i]\n",
    "    pokesent = sentiments[i]\n",
    "    print(f'{pokename} is {pokesent}')\n",
    "#can use enumerate or range to combine 2 lists\n",
    "#i prefer range enumerate confuses me :("
   ]
  },
  {
   "cell_type": "markdown",
   "id": "bbbf300a",
   "metadata": {},
   "source": [
    "# while loops :)"
   ]
  },
  {
   "cell_type": "code",
   "execution_count": 8,
   "id": "2bf3babc",
   "metadata": {},
   "outputs": [
    {
     "name": "stdout",
     "output_type": "stream",
     "text": [
      "0\n",
      "1\n",
      "2\n",
      "3\n",
      "4\n",
      "5\n",
      "6\n",
      "7\n",
      "8\n",
      "9\n"
     ]
    }
   ],
   "source": [
    "number = 0\n",
    "while number < 10:\n",
    "    print(number)\n",
    "    number += 1\n",
    "#while loop runs as long as condition is True    "
   ]
  }
 ],
 "metadata": {
  "kernelspec": {
   "display_name": "Python 3 (ipykernel)",
   "language": "python",
   "name": "python3"
  },
  "language_info": {
   "codemirror_mode": {
    "name": "ipython",
    "version": 3
   },
   "file_extension": ".py",
   "mimetype": "text/x-python",
   "name": "python",
   "nbconvert_exporter": "python",
   "pygments_lexer": "ipython3",
   "version": "3.11.5"
  },
  "toc": {
   "base_numbering": 1,
   "nav_menu": {},
   "number_sections": true,
   "sideBar": true,
   "skip_h1_title": false,
   "title_cell": "Table of Contents",
   "title_sidebar": "Contents",
   "toc_cell": false,
   "toc_position": {},
   "toc_section_display": true,
   "toc_window_display": false
  },
  "varInspector": {
   "cols": {
    "lenName": 16,
    "lenType": 16,
    "lenVar": 40
   },
   "kernels_config": {
    "python": {
     "delete_cmd_postfix": "",
     "delete_cmd_prefix": "del ",
     "library": "var_list.py",
     "varRefreshCmd": "print(var_dic_list())"
    },
    "r": {
     "delete_cmd_postfix": ") ",
     "delete_cmd_prefix": "rm(",
     "library": "var_list.r",
     "varRefreshCmd": "cat(var_dic_list()) "
    }
   },
   "types_to_exclude": [
    "module",
    "function",
    "builtin_function_or_method",
    "instance",
    "_Feature"
   ],
   "window_display": false
  }
 },
 "nbformat": 4,
 "nbformat_minor": 5
}
