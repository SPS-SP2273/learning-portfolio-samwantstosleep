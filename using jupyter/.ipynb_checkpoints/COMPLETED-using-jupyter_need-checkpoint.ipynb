{
 "cells": [
  {
   "cell_type": "markdown",
   "id": "5fe06ebd-d83e-47fd-b33a-12b29b20645f",
   "metadata": {},
   "source": [
    "# Cool i made a giant markdown cell"
   ]
  },
  {
   "cell_type": "markdown",
   "id": "a7fba3f3-98a9-4a5b-81a7-f54ed8b5b653",
   "metadata": {},
   "source": [
    "### Testing some stuff"
   ]
  },
  {
   "cell_type": "code",
   "execution_count": 1,
   "id": "77e66a32-3c98-4f54-b7ef-6e36e1b177c7",
   "metadata": {},
   "outputs": [
    {
     "name": "stdout",
     "output_type": "stream",
     "text": [
      "Hello World\n"
     ]
    }
   ],
   "source": [
    "print('Hello World')"
   ]
  },
  {
   "cell_type": "markdown",
   "id": "f281027b-43eb-419f-88f8-52c041afa524",
   "metadata": {},
   "source": [
    "The ships hung in the sky in much the same way that bricks don’t."
   ]
  },
  {
   "cell_type": "markdown",
   "id": "e1fea9ed-85ac-47f9-be85-73decdfcbfaf",
   "metadata": {},
   "source": [
    "# Markdown things for me to remember"
   ]
  },
  {
   "cell_type": "code",
   "execution_count": 3,
   "id": "a6904bdf-0a82-49f8-aecb-3475463ac1c3",
   "metadata": {},
   "outputs": [],
   "source": [
    "# ** BOLD TEXT **\n",
    "# _ ITALIC TEXT _\n",
    "# *** BOLD AND ITALIC TEXT ***\n",
    "# <sub> INSERT SUBSCRIPT TEXT HERE </sub>\n",
    "# <sup> INSERT SUPERSCRIPT TEXT HERE </sup>\n",
    "# [INSERT DISPLAY TEXT](insert link url, including https)\n",
    "# ![](insert image link)"
   ]
  },
  {
   "cell_type": "markdown",
   "id": "36a225c3-6461-4606-90e6-8c7afad44711",
   "metadata": {},
   "source": [
    "#### The ships *hung in the sky* in much the same way that **bricks don't.**<sup>1</sup><sub>QUOTE</sub>"
   ]
  },
  {
   "cell_type": "markdown",
   "id": "64ead177-77c0-4031-ba46-5dbeec6070b6",
   "metadata": {},
   "source": [
    "#### You and I will have problems if you do not know about **The Hitchhiker's Guide to the Galaxy**"
   ]
  },
  {
   "cell_type": "markdown",
   "id": "68c2d6ad-cd4e-435a-b1d2-349bbf64e4ef",
   "metadata": {},
   "source": [
    "#### [SP2273 Website](https://sps.nus.edu.sg/sp2273)"
   ]
  },
  {
   "cell_type": "markdown",
   "id": "28591aca-affe-42f9-877e-2168319f4638",
   "metadata": {},
   "source": [
    "![](https://nus.edu.sg/images/default-source/base/logo.png)"
   ]
  },
  {
   "cell_type": "raw",
   "id": "f4db79b4-3cd5-4296-91a7-e9cae83b839c",
   "metadata": {},
   "source": [
    "| A    |  B   |    C |\r\n",
    "| :--- | :--: | ---: |\r\n",
    "| a1   |  b1  |   c1     tis how to format tables. |\r\n",
    "| a2   |  b2  |   c2 |\r\n",
    "| a3   |  b3  |   c3 |"
   ]
  },
  {
   "cell_type": "markdown",
   "id": "41e72a18-04be-4fbb-a166-224133080fe8",
   "metadata": {},
   "source": [
    "|hello | TA | that |\n",
    "| :--- | :--: | ---: |\n",
    "| will | see | this |"
   ]
  },
  {
   "cell_type": "markdown",
   "id": "92bf0577-cea6-4ca9-b3eb-92df861b5c7c",
   "metadata": {},
   "source": [
    "# Markdown equation stuff!"
   ]
  },
  {
   "cell_type": "raw",
   "id": "f3be77c3-e8ca-41f7-b888-b8f8753dd182",
   "metadata": {},
   "source": [
    "$\\dfrac{x}{y}$ for fractions\n",
    "$x_{b}$ for subscripts\n",
    "$x^{(x+w)}$\n",
    "$\\sqrt{x+y+z}$ for squareroot stuff\n",
    "$\\sum_{n=2}^{n=\\infty} x_n$ for the sigma sum stuff\n",
    "$\\int_{x=3}^{x=\\infty} f(x+1)dx$ for integrals\n",
    "a \\ne b for not equal\n",
    "$a \\lt b$ for less than\n",
    "$a \\leq b$ for less than or equal. greater than is gt, greater than or equal is geq. same format\n",
    "\n",
    "they have greek letters too :O\n",
    "$\\alpha, \\beta, \\gamma, \\pi, \\lambda$"
   ]
  },
  {
   "cell_type": "markdown",
   "id": "fa19705e-e7fc-4254-9757-66bd7a40bfba",
   "metadata": {},
   "source": [
    "$\\dfrac{x}{y}$ \n",
    "$x_{b}$ \n",
    "$x^{(x+w)}$\n",
    "$\\sqrt{x+y+z}$ \n",
    "$\\sum_{n=2}^{n=\\infty} x_n$ \n",
    "$\\int_{x=3}^{x=\\infty} f(x+1)dx$ \n",
    "a \\ne b \n",
    "$a \\lt b$ \n",
    "$a \\leq b$ \n",
    "$\\alpha, \\beta, \\gamma, \\pi, \\lambda$"
   ]
  }
 ],
 "metadata": {
  "kernelspec": {
   "display_name": "Python 3 (ipykernel)",
   "language": "python",
   "name": "python3"
  },
  "language_info": {
   "codemirror_mode": {
    "name": "ipython",
    "version": 3
   },
   "file_extension": ".py",
   "mimetype": "text/x-python",
   "name": "python",
   "nbconvert_exporter": "python",
   "pygments_lexer": "ipython3",
   "version": "3.11.5"
  }
 },
 "nbformat": 4,
 "nbformat_minor": 5
}
