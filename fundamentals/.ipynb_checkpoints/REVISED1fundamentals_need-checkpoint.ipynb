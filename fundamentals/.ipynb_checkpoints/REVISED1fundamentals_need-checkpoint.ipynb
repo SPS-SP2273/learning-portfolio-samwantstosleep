{
 "cells": [
  {
   "cell_type": "markdown",
   "id": "3d2d9a0a",
   "metadata": {},
   "source": [
    "# Functions ^.^ (added a reply)"
   ]
  },
  {
   "cell_type": "code",
   "execution_count": 6,
   "id": "f644bbe7",
   "metadata": {},
   "outputs": [
    {
     "name": "stdout",
     "output_type": "stream",
     "text": [
      "Hello world!\n"
     ]
    }
   ],
   "source": [
    "print('Hello world!')\n",
    "# hmmm for some reason exit() doesn't require an arguement\n",
    "# i wonder why hmmm"
   ]
  },
  {
   "cell_type": "markdown",
   "id": "44c6052c",
   "metadata": {},
   "source": [
    "i'm assuming exit() doesn't require an argument since it just tells python to terminate. no point in putting anything"
   ]
  },
  {
   "cell_type": "markdown",
   "id": "d4e7d9a5",
   "metadata": {},
   "source": [
    "# Python is interpreted\n",
    "the interpreter works one command at a time\n",
    "\n",
    "# Python is sensitive\n",
    "tis case-sensitive. Print() is not the same as print()"
   ]
  },
  {
   "cell_type": "code",
   "execution_count": 7,
   "id": "2ca3eb7c",
   "metadata": {},
   "outputs": [
    {
     "name": "stdout",
     "output_type": "stream",
     "text": [
      "hello world\n"
     ]
    },
    {
     "ename": "NameError",
     "evalue": "name 'Print' is not defined",
     "output_type": "error",
     "traceback": [
      "\u001b[1;31m---------------------------------------------------------------------------\u001b[0m",
      "\u001b[1;31mNameError\u001b[0m                                 Traceback (most recent call last)",
      "Cell \u001b[1;32mIn[7], line 2\u001b[0m\n\u001b[0;32m      1\u001b[0m \u001b[38;5;28mprint\u001b[39m(\u001b[38;5;124m'\u001b[39m\u001b[38;5;124mhello world\u001b[39m\u001b[38;5;124m'\u001b[39m) \u001b[38;5;66;03m#this works\u001b[39;00m\n\u001b[1;32m----> 2\u001b[0m \u001b[43mPrint\u001b[49m(\u001b[38;5;124m'\u001b[39m\u001b[38;5;124mhello world\u001b[39m\u001b[38;5;124m'\u001b[39m) \u001b[38;5;66;03m#ooh cool i got a NameError coz Print is not defined\u001b[39;00m\n",
      "\u001b[1;31mNameError\u001b[0m: name 'Print' is not defined"
     ]
    }
   ],
   "source": [
    "print('hello world') #this works\n",
    "Print('hello world') #ooh cool i got a NameError coz Print is not defined"
   ]
  },
  {
   "cell_type": "markdown",
   "id": "816b708d",
   "metadata": {},
   "source": [
    "# Comments"
   ]
  },
  {
   "cell_type": "code",
   "execution_count": 8,
   "id": "ab99642d",
   "metadata": {},
   "outputs": [
    {
     "name": "stdout",
     "output_type": "stream",
     "text": [
      "the sum of these numbers is 49\n"
     ]
    }
   ],
   "source": [
    "# put a hashtag on a code line. python won't execute this. i love comments so much\n",
    "\n",
    "def Print(number1, number2):\n",
    "    x = number1 + number2\n",
    "    print('the sum of these numbers is ' + str(x))\n",
    "\n",
    "Print(24,25)    #hwehehehhe now the Print() function somewhat works"
   ]
  },
  {
   "cell_type": "markdown",
   "id": "8fa8c067",
   "metadata": {},
   "source": [
    "# = is not the same as == , also if/elif/else stuff\n",
    "= is to set something as equal, == is to check if something is equal"
   ]
  },
  {
   "cell_type": "code",
   "execution_count": 9,
   "id": "bd37b9f4",
   "metadata": {},
   "outputs": [
    {
     "name": "stdout",
     "output_type": "stream",
     "text": [
      "tis equal\n",
      "tis not equal\n"
     ]
    }
   ],
   "source": [
    "def is_equal(x,y):\n",
    "    if x == y:\n",
    "        print('tis equal')\n",
    "    else:\n",
    "        print('tis not equal')\n",
    "\n",
    "is_equal('pink', 'pink')\n",
    "is_equal('pink', 2)"
   ]
  },
  {
   "cell_type": "markdown",
   "id": "dee7fef2",
   "metadata": {},
   "source": [
    "# indentations are very important. REMEMBER.\n",
    "# also, note variable types\n",
    "see next code line"
   ]
  },
  {
   "cell_type": "code",
   "execution_count": 10,
   "id": "d562f48b",
   "metadata": {},
   "outputs": [
    {
     "name": "stdout",
     "output_type": "stream",
     "text": [
      "10\n",
      "age\n"
     ]
    }
   ],
   "source": [
    "age = 10\n",
    "print(age) #prints 10\n",
    "print('age') #prints age (like the english word age)"
   ]
  },
  {
   "cell_type": "markdown",
   "id": "b92c2364",
   "metadata": {},
   "source": [
    "# Brackets (added () for tuples)"
   ]
  },
  {
   "cell_type": "raw",
   "id": "a8bc59a0",
   "metadata": {},
   "source": [
    "() for math and functions and tuples :O\n",
    "[] for lists\n",
    "{} for dictionaries"
   ]
  },
  {
   "cell_type": "code",
   "execution_count": 11,
   "id": "b77f57c1",
   "metadata": {},
   "outputs": [
    {
     "name": "stdout",
     "output_type": "stream",
     "text": [
      "['apple', 'banana', 'cherry', 'durian']\n"
     ]
    }
   ],
   "source": [
    "groceries = ['apple', 'banana', 'cherry'] #tis a list\n",
    "groceries.append('durian')\n",
    "print(groceries) #yay it includes durian"
   ]
  },
  {
   "cell_type": "markdown",
   "id": "a1174472",
   "metadata": {},
   "source": [
    "# importing stuff to python (added a reply)"
   ]
  },
  {
   "cell_type": "code",
   "execution_count": 12,
   "id": "e53c4a3c",
   "metadata": {},
   "outputs": [],
   "source": [
    "import math\n",
    "math.sqrt(4)"
   ]
  },
  {
   "cell_type": "code",
   "execution_count": 3,
   "id": "aa3a06a3",
   "metadata": {},
   "outputs": [
    {
     "data": {
      "text/plain": [
       "2.0"
      ]
     },
     "execution_count": 3,
     "metadata": {},
     "output_type": "execute_result"
    }
   ],
   "source": [
    "import numpy as np\n",
    "np.sqrt(4) #ooh i didnt know numpy had sqrt too i just used it for the randomrandn thing"
   ]
  },
  {
   "cell_type": "code",
   "execution_count": 2,
   "id": "88089559",
   "metadata": {},
   "outputs": [
    {
     "data": {
      "text/plain": [
       "5.0"
      ]
     },
     "execution_count": 2,
     "metadata": {},
     "output_type": "execute_result"
    }
   ],
   "source": [
    "from math import sqrt\n",
    "sqrt(25) #yep this works too"
   ]
  },
  {
   "cell_type": "raw",
   "id": "8cb5f328",
   "metadata": {},
   "source": [
    "i get a 2 without printing the statement but i still like to print out of habit, especially i like to put many lines(?) in one cell. without the print statement i'll only be able to see the last one "
   ]
  },
  {
   "cell_type": "code",
   "execution_count": 3,
   "id": "f72eb964",
   "metadata": {},
   "outputs": [
    {
     "data": {
      "text/plain": [
       "11.0"
      ]
     },
     "execution_count": 3,
     "metadata": {},
     "output_type": "execute_result"
    }
   ],
   "source": [
    "sqrt(25)\n",
    "sqrt(100)\n",
    "sqrt(121)\n",
    "#see i only get 11 so i like to print all so i get to see everything"
   ]
  },
  {
   "cell_type": "markdown",
   "id": "692c1867",
   "metadata": {},
   "source": [
    "# The dot (.)\n",
    "this indicates ownership (i assume to what module)"
   ]
  },
  {
   "cell_type": "code",
   "execution_count": 1,
   "id": "09b45d9f",
   "metadata": {},
   "outputs": [
    {
     "data": {
      "text/plain": [
       "['I', 'am', 'Batman']"
      ]
     },
     "execution_count": 1,
     "metadata": {},
     "output_type": "execute_result"
    }
   ],
   "source": [
    "'I am Batman'.split()\n",
    "#ooh cool it returns a list"
   ]
  },
  {
   "cell_type": "code",
   "execution_count": 5,
   "id": "ba1dcffb",
   "metadata": {},
   "outputs": [
    {
     "ename": "SyntaxError",
     "evalue": "invalid decimal literal (3897031440.py, line 1)",
     "output_type": "error",
     "traceback": [
      "\u001b[1;36m  Cell \u001b[1;32mIn[5], line 1\u001b[1;36m\u001b[0m\n\u001b[1;33m    1234.split()\u001b[0m\n\u001b[1;37m        ^\u001b[0m\n\u001b[1;31mSyntaxError\u001b[0m\u001b[1;31m:\u001b[0m invalid decimal literal\n"
     ]
    }
   ],
   "source": [
    "1234.split() #doesnt work since split() doesnt work for numbers"
   ]
  }
 ],
 "metadata": {
  "kernelspec": {
   "display_name": "Python 3 (ipykernel)",
   "language": "python",
   "name": "python3"
  },
  "language_info": {
   "codemirror_mode": {
    "name": "ipython",
    "version": 3
   },
   "file_extension": ".py",
   "mimetype": "text/x-python",
   "name": "python",
   "nbconvert_exporter": "python",
   "pygments_lexer": "ipython3",
   "version": "3.11.5"
  },
  "toc": {
   "base_numbering": 1,
   "nav_menu": {},
   "number_sections": true,
   "sideBar": true,
   "skip_h1_title": false,
   "title_cell": "Table of Contents",
   "title_sidebar": "Contents",
   "toc_cell": false,
   "toc_position": {},
   "toc_section_display": true,
   "toc_window_display": false
  },
  "varInspector": {
   "cols": {
    "lenName": 16,
    "lenType": 16,
    "lenVar": 40
   },
   "kernels_config": {
    "python": {
     "delete_cmd_postfix": "",
     "delete_cmd_prefix": "del ",
     "library": "var_list.py",
     "varRefreshCmd": "print(var_dic_list())"
    },
    "r": {
     "delete_cmd_postfix": ") ",
     "delete_cmd_prefix": "rm(",
     "library": "var_list.r",
     "varRefreshCmd": "cat(var_dic_list()) "
    }
   },
   "types_to_exclude": [
    "module",
    "function",
    "builtin_function_or_method",
    "instance",
    "_Feature"
   ],
   "window_display": false
  }
 },
 "nbformat": 4,
 "nbformat_minor": 5
}
