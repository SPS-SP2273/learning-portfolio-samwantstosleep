{
 "cells": [
  {
   "cell_type": "markdown",
   "id": "3b6d2819",
   "metadata": {},
   "source": [
    "# 1D slicing lists and arrays"
   ]
  },
  {
   "cell_type": "code",
   "execution_count": 3,
   "id": "a41f0a06",
   "metadata": {},
   "outputs": [
    {
     "name": "stdout",
     "output_type": "stream",
     "text": [
      "a1\n",
      "j10\n",
      "['a1' 'b2' 'c3']\n",
      "['b2' 'd4' 'f6']\n",
      "['e5' 'f6' 'g7' 'h8' 'i9' 'j10']\n",
      "['a1' 'b2' 'c3' 'd4']\n",
      "['f6' 'e5' 'd4']\n",
      "['j10' 'i9' 'h8' 'g7' 'f6' 'e5' 'd4' 'c3' 'b2' 'a1']\n"
     ]
    }
   ],
   "source": [
    "py_list=[\"a1\", \"b2\", \"c3\", \"d4\", \"e5\",\n",
    "         \"f6\", \"g7\", \"h8\", \"i9\", \"j10\"]\n",
    "np_array=np.array(py_list)\n",
    "\n",
    "x = np_array\n",
    "print(x[0]) #index 0\n",
    "print(x[-1]) #index last (10 in this case)\n",
    "print(x[0:3]) #index 0,1,2\n",
    "print(x[1:6:2]) #index 1-5, steps of 2\n",
    "print(x[4:]) #index 4 to end\n",
    "print(x[:4]) #index 0 to 4\n",
    "print(x[5:2:-1]) #index 5 to 3 (in reverse)\n",
    "print(x[::-1]) #reverse the list      "
   ]
  },
  {
   "cell_type": "markdown",
   "id": "de9a79d7",
   "metadata": {},
   "source": [
    "# subsetting by masking, arrays only"
   ]
  },
  {
   "cell_type": "code",
   "execution_count": 4,
   "id": "138110a2",
   "metadata": {},
   "outputs": [
    {
     "data": {
      "text/plain": [
       "array([False, False, False,  True,  True,  True,  True,  True,  True,\n",
       "        True])"
      ]
     },
     "execution_count": 4,
     "metadata": {},
     "output_type": "execute_result"
    }
   ],
   "source": [
    "np_array = np.array([1, 2, 3, 4, 5, 6, 7, 8, 9, 10])\n",
    "my_mask = np_array > 3\n",
    "my_mask"
   ]
  },
  {
   "cell_type": "code",
   "execution_count": 5,
   "id": "e368b8f2",
   "metadata": {},
   "outputs": [
    {
     "data": {
      "text/plain": [
       "array([ 4,  5,  6,  7,  8,  9, 10])"
      ]
     },
     "execution_count": 5,
     "metadata": {},
     "output_type": "execute_result"
    }
   ],
   "source": [
    "np_array[my_mask] #shows only the True"
   ]
  },
  {
   "cell_type": "code",
   "execution_count": 6,
   "id": "741ab443",
   "metadata": {},
   "outputs": [
    {
     "data": {
      "text/plain": [
       "array([1, 2, 3])"
      ]
     },
     "execution_count": 6,
     "metadata": {},
     "output_type": "execute_result"
    }
   ],
   "source": [
    "np_array[~(np_array>3)] #inverts the mask"
   ]
  },
  {
   "cell_type": "code",
   "execution_count": 9,
   "id": "26032e9e",
   "metadata": {},
   "outputs": [
    {
     "name": "stdout",
     "output_type": "stream",
     "text": [
      "[4 5 6 7]\n",
      "[ 1  2  3  4  5  6  7  8  9 10]\n"
     ]
    }
   ],
   "source": [
    "#np_array[(8>np_array>3)] cannot combine masks this way\n",
    "print(np_array[(np_array>3) & (np_array<8)]) #tis how to do it. or use | to denote or\n",
    "print(np_array[(np_array>3) | (np_array<8)])"
   ]
  },
  {
   "cell_type": "markdown",
   "id": "7021cbaf",
   "metadata": {},
   "source": [
    "# 2D lists/arrays, indexing and slicing"
   ]
  },
  {
   "cell_type": "code",
   "execution_count": 14,
   "id": "4b9b980e",
   "metadata": {},
   "outputs": [
    {
     "data": {
      "text/plain": [
       "array(['4', 'D'], dtype='<U11')"
      ]
     },
     "execution_count": 14,
     "metadata": {},
     "output_type": "execute_result"
    }
   ],
   "source": [
    "py_list_2d = [[1, \"A\"], [2, \"B\"], [3, \"C\"], [4, \"D\"],\n",
    "              [5, \"E\"], [6, \"F\"], [7, \"G\"], [8, \"H\"],\n",
    "              [9, \"I\"], [10, \"J\"]]\n",
    "\n",
    "np_array_2d = np.array(py_list_2d)\n",
    "\n",
    "py_list_2d[3] #returns [4, 'D']\n",
    "np_array_2d[3] #array(['4', 'D'], dtype='<U11')"
   ]
  },
  {
   "cell_type": "code",
   "execution_count": null,
   "id": "c926d1ad",
   "metadata": {},
   "outputs": [],
   "source": [
    "#different syntaxes to get first element at position 4\n",
    "py_list_2d[3][0] #notice the two brackets for the list\n",
    "np_array_2d[3, 0] #notice the comma for the arry"
   ]
  },
  {
   "cell_type": "code",
   "execution_count": 15,
   "id": "591e236f",
   "metadata": {},
   "outputs": [
    {
     "data": {
      "text/plain": [
       "array(['1', '2', '3'], dtype='<U11')"
      ]
     },
     "execution_count": 15,
     "metadata": {},
     "output_type": "execute_result"
    }
   ],
   "source": [
    "#py_list_2d[:3][0] this returns [1, 'A']. don't do the range thing on lists\n",
    "np_array_2d[:3, 0] #yep can do the range slice thing with arrays"
   ]
  },
  {
   "cell_type": "markdown",
   "id": "3135ae87",
   "metadata": {},
   "source": [
    "# making lists grow :D"
   ]
  },
  {
   "cell_type": "code",
   "execution_count": 16,
   "id": "64a9e4db",
   "metadata": {},
   "outputs": [
    {
     "data": {
      "text/plain": [
       "[1, 2, 1, 2, 1, 2, 1, 2, 1, 2]"
      ]
     },
     "execution_count": 16,
     "metadata": {},
     "output_type": "execute_result"
    }
   ],
   "source": [
    "X = [1,2] * 5\n",
    "X #the list grows :D"
   ]
  },
  {
   "cell_type": "code",
   "execution_count": 18,
   "id": "8d768ed8",
   "metadata": {},
   "outputs": [
    {
     "name": "stdout",
     "output_type": "stream",
     "text": [
      "[1, 2, 3, 4, 5, 6]\n"
     ]
    }
   ],
   "source": [
    "x = [1]\n",
    "x += [2] #how to add stuff to lists\n",
    "x.append(3) #another way\n",
    "x.extend([4,5,6]) #add multiple at a time\n",
    "\n",
    "print(x)"
   ]
  },
  {
   "cell_type": "markdown",
   "id": "86a6ba52",
   "metadata": {},
   "source": [
    "# tuples"
   ]
  },
  {
   "cell_type": "raw",
   "id": "85b8755b",
   "metadata": {},
   "source": [
    "similar to lists but they use (), and they can't be changed after creation"
   ]
  },
  {
   "cell_type": "markdown",
   "id": "cfbcd226",
   "metadata": {},
   "source": [
    "# just note this"
   ]
  },
  {
   "cell_type": "code",
   "execution_count": null,
   "id": "3216ce96",
   "metadata": {},
   "outputs": [],
   "source": [
    "x = [1,2,3]\n",
    "y = x\n",
    "z = x #DO NOT DO THIS (just accept that)"
   ]
  },
  {
   "cell_type": "code",
   "execution_count": null,
   "id": "d6abc067",
   "metadata": {},
   "outputs": [],
   "source": [
    "x = [1,2,3]\n",
    "y = x.copy()\n",
    "z = x.copy() #do this instead (just accept that)"
   ]
  }
 ],
 "metadata": {
  "kernelspec": {
   "display_name": "Python 3 (ipykernel)",
   "language": "python",
   "name": "python3"
  },
  "language_info": {
   "codemirror_mode": {
    "name": "ipython",
    "version": 3
   },
   "file_extension": ".py",
   "mimetype": "text/x-python",
   "name": "python",
   "nbconvert_exporter": "python",
   "pygments_lexer": "ipython3",
   "version": "3.11.5"
  },
  "toc": {
   "base_numbering": 1,
   "nav_menu": {},
   "number_sections": true,
   "sideBar": true,
   "skip_h1_title": false,
   "title_cell": "Table of Contents",
   "title_sidebar": "Contents",
   "toc_cell": false,
   "toc_position": {},
   "toc_section_display": true,
   "toc_window_display": false
  },
  "varInspector": {
   "cols": {
    "lenName": 16,
    "lenType": 16,
    "lenVar": 40
   },
   "kernels_config": {
    "python": {
     "delete_cmd_postfix": "",
     "delete_cmd_prefix": "del ",
     "library": "var_list.py",
     "varRefreshCmd": "print(var_dic_list())"
    },
    "r": {
     "delete_cmd_postfix": ") ",
     "delete_cmd_prefix": "rm(",
     "library": "var_list.r",
     "varRefreshCmd": "cat(var_dic_list()) "
    }
   },
   "types_to_exclude": [
    "module",
    "function",
    "builtin_function_or_method",
    "instance",
    "_Feature"
   ],
   "window_display": false
  }
 },
 "nbformat": 4,
 "nbformat_minor": 5
}
