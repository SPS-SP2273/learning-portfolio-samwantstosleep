{
 "cells": [
  {
   "cell_type": "markdown",
   "id": "123456",
   "metadata": {},
   "source": [
    "<div style=\"text-align:left;font-size:2em\"><span style=\"font-weight:bolder;font-size:1.25em\">SP2273 | Learning Portfolio</span><br><br><span style=\"font-weight:bold;color:darkred\">Loops (Need) Exercises</span></div>"
   ]
  },
  {
   "cell_type": "markdown",
   "id": "d137d86b",
   "metadata": {},
   "source": [
    "## testing stuff"
   ]
  },
  {
   "cell_type": "code",
   "execution_count": 1,
   "id": "5b7f6874",
   "metadata": {},
   "outputs": [
    {
     "name": "stdout",
     "output_type": "stream",
     "text": [
      "A1\tA2\tA3\t\n",
      "\n",
      "B1\tB2\tB3\t\n",
      "\n",
      "C1\tC2\tC3\t\n",
      "\n"
     ]
    }
   ],
   "source": [
    "for letter in ['A', 'B', 'C']:\n",
    "    for number in [1, 2, 3]:\n",
    "        print(f'{letter}{number}', end='\\t')\n",
    "    print('\\n')\n",
    "#for loop in a for loop :O   "
   ]
  },
  {
   "cell_type": "markdown",
   "id": "7a5bedc4",
   "metadata": {},
   "source": [
    "## Excerise 1 (celcius to farenheit)"
   ]
  },
  {
   "cell_type": "code",
   "execution_count": 2,
   "id": "89688c32",
   "metadata": {},
   "outputs": [
    {
     "name": "stdout",
     "output_type": "stream",
     "text": [
      "[ 32.  41.  50.  59.  68.  77.  86.  95. 104. 113. 122.]\n"
     ]
    }
   ],
   "source": [
    "import numpy as np\n",
    "\n",
    "temperatures_celsius = [\n",
    "    0, 5, 10, 15, 20, 25,\n",
    "    30, 35, 40, 45, 50]\n",
    "\n",
    "#isn't this easier than using a for loop? \n",
    "#just in case we want to manipulate this later?\n",
    "tempc = np.array(temperatures_celsius)\n",
    "tempf = (tempc*1.8)+32\n",
    "\n",
    "print(tempf)"
   ]
  },
  {
   "cell_type": "code",
   "execution_count": 3,
   "id": "4a24204a",
   "metadata": {
    "code_folding": []
   },
   "outputs": [
    {
     "name": "stdout",
     "output_type": "stream",
     "text": [
      "32.0\n",
      "41.0\n",
      "50.0\n",
      "59.0\n",
      "68.0\n",
      "77.0\n",
      "86.0\n",
      "95.0\n",
      "104.0\n",
      "113.0\n",
      "122.0\n"
     ]
    }
   ],
   "source": [
    "temperatures_celsius = [\n",
    "    0, 5, 10, 15, 20, 25,\n",
    "    30, 35, 40, 45, 50]\n",
    "\n",
    "#here's the for loop way\n",
    "for temp in temperatures_celsius:\n",
    "    tempf = (temp * 1.8) + 32\n",
    "    print(tempf)"
   ]
  },
  {
   "cell_type": "markdown",
   "id": "55d418d1",
   "metadata": {},
   "source": [
    "## Exercise 2 (multiplication table)"
   ]
  },
  {
   "cell_type": "code",
   "execution_count": 4,
   "id": "58aff3d1",
   "metadata": {},
   "outputs": [
    {
     "name": "stdout",
     "output_type": "stream",
     "text": [
      "1 :\t1\t2\t3\t4\t5\t\n",
      "\n",
      "2 :\t2\t4\t6\t8\t10\t\n",
      "\n",
      "3 :\t3\t6\t9\t12\t15\t\n",
      "\n",
      "4 :\t4\t8\t12\t16\t20\t\n",
      "\n",
      "5 :\t5\t10\t15\t20\t25\t\n",
      "\n"
     ]
    }
   ],
   "source": [
    "for i in range(1,6):\n",
    "    print(f'{i} :', end = '\\t')\n",
    "    for j in range(1,6):\n",
    "        print(f'{i * j}', end = '\\t')\n",
    "    print('\\n')    "
   ]
  }
 ],
 "metadata": {
  "kernelspec": {
   "display_name": "Python 3 (ipykernel)",
   "language": "python",
   "name": "python3"
  },
  "language_info": {
   "codemirror_mode": {
    "name": "ipython",
    "version": 3
   },
   "file_extension": ".py",
   "mimetype": "text/x-python",
   "name": "python",
   "nbconvert_exporter": "python",
   "pygments_lexer": "ipython3",
   "version": "3.11.5"
  },
  "toc": {
   "base_numbering": 1,
   "nav_menu": {},
   "number_sections": true,
   "sideBar": true,
   "skip_h1_title": false,
   "title_cell": "Table of Contents",
   "title_sidebar": "Contents",
   "toc_cell": false,
   "toc_position": {},
   "toc_section_display": true,
   "toc_window_display": false
  },
  "varInspector": {
   "cols": {
    "lenName": 16,
    "lenType": 16,
    "lenVar": 40
   },
   "kernels_config": {
    "python": {
     "delete_cmd_postfix": "",
     "delete_cmd_prefix": "del ",
     "library": "var_list.py",
     "varRefreshCmd": "print(var_dic_list())"
    },
    "r": {
     "delete_cmd_postfix": ") ",
     "delete_cmd_prefix": "rm(",
     "library": "var_list.r",
     "varRefreshCmd": "cat(var_dic_list()) "
    }
   },
   "types_to_exclude": [
    "module",
    "function",
    "builtin_function_or_method",
    "instance",
    "_Feature"
   ],
   "window_display": false
  },
  "vscode": {
   "interpreter": {
    "hash": "31f2aee4e71d21fbe5cf8b01ff0e069b9275f58929596ceb00d14d90e3e16cd6"
   }
  }
 },
 "nbformat": 4,
 "nbformat_minor": 5
}
