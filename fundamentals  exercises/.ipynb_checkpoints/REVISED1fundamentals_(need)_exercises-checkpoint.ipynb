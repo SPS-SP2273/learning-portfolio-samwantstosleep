{
 "cells": [
  {
   "cell_type": "markdown",
   "id": "123456",
   "metadata": {},
   "source": [
    "<div style=\"text-align:left;font-size:2em\"><span style=\"font-weight:bolder;font-size:1.25em\">SP2273 | Learning Portfolio</span><br><br><span style=\"font-weight:bold;color:darkred\">Fundamentals (Need) Exercises</span></div>"
   ]
  },
  {
   "cell_type": "markdown",
   "id": "997c9def",
   "metadata": {},
   "source": [
    "## Exercise 1 (total recall)"
   ]
  },
  {
   "cell_type": "markdown",
   "id": "7b088a40",
   "metadata": {},
   "source": [
    "1. purely from memory, list as many of the basic python features mentioned earlier. italic the ones i missed\n",
    "- print()\n",
    "- if:\n",
    "- else:\n",
    "- elif:\n",
    "- while:\n",
    "- .split()\n",
    "- () is for functions and math\n",
    "- [] is for lists\n",
    "- {} is for dictionaries\n",
    "- importing math and numpy :D\n",
    "- *math.sqrt()* whoops i forgot this\n",
    "- *= is not the same as ==* and this\n",
    "- *the wonderful hashtag oops i mean comments* and this"
   ]
  },
  {
   "cell_type": "markdown",
   "id": "509fb46e",
   "metadata": {},
   "source": [
    "## Exercise 2 (debugging)"
   ]
  },
  {
   "cell_type": "raw",
   "id": "cca6887b",
   "metadata": {},
   "source": [
    "the bugged code looks like this:\n",
    "x, y = 3, 4\n",
    "      z = sqrt(x*2 + y**2)\n",
    "      Print(x, y, z)"
   ]
  },
  {
   "cell_type": "code",
   "execution_count": 8,
   "id": "abdd01fb",
   "metadata": {},
   "outputs": [
    {
     "name": "stdout",
     "output_type": "stream",
     "text": [
      "3 4 5\n"
     ]
    }
   ],
   "source": [
    "#TIS DEBUGGING TIME :D\n",
    "\n",
    "from math import sqrt\n",
    "x, y = 3, 4\n",
    "z = sqrt(x**2 + y**2) #changed the x*2 to x**2 coz pythagoras\n",
    "\n",
    "print(x, y, int(z)) #i put the int because seeing z with a decimal and the rest without pains me"
   ]
  },
  {
   "cell_type": "markdown",
   "id": "b6327252",
   "metadata": {},
   "source": [
    "## Exercise 3 (explain in your own words) (added the correction too)"
   ]
  },
  {
   "cell_type": "markdown",
   "id": "c809b534",
   "metadata": {},
   "source": [
    "| # | **Term** | **Description** |\n",
    "|:--|:--:|--:|\n",
    "|1|Function|name of code that does something|\n",
    "|2|arguments|parameters that something can take|\n",
    "|3|comments|code that python won't execute, for us to read|\n",
    "|4|indentations|margins so python knows which block belongs to what|\n",
    "|5|packages|things you can import so python can do more stuff|\n",
    "|6|.|the way you use functions from the things you import|\n",
    "|7|:|for code that have conditions like if,while,etc|\n",
    "|8|[]|denotes a list|\n",
    "|9|[[[]]]|a list of lists???|\n",
    "|10|{}|denotes a dictionary|"
   ]
  },
  {
   "cell_type": "markdown",
   "id": "71767920",
   "metadata": {},
   "source": [
    "| # | **Term** | **Correction** |\n",
    "|:--|:--:|:--|\n",
    "|6|.|the dot indicates ownership, like from what package. math for example|\n",
    "|9|[[[]]]| tis a 3D list. aka a list of lists ._."
   ]
  },
  {
   "cell_type": "markdown",
   "id": "99f3510e",
   "metadata": {},
   "source": [
    "## Exercise 4 (more than one way to divide)"
   ]
  },
  {
   "cell_type": "code",
   "execution_count": 7,
   "id": "30fc54e5",
   "metadata": {},
   "outputs": [
    {
     "name": "stdout",
     "output_type": "stream",
     "text": [
      "2.5\n",
      "2\n",
      "1\n"
     ]
    }
   ],
   "source": [
    "print(5 / 2) #returns 2.5 (the actual value)\n",
    "print(5 // 2) #returns 2 (round down to nearest integer)\n",
    "print(5 % 2) #returns 1 (the remainder)"
   ]
  }
 ],
 "metadata": {
  "kernelspec": {
   "display_name": "Python 3 (ipykernel)",
   "language": "python",
   "name": "python3"
  },
  "language_info": {
   "codemirror_mode": {
    "name": "ipython",
    "version": 3
   },
   "file_extension": ".py",
   "mimetype": "text/x-python",
   "name": "python",
   "nbconvert_exporter": "python",
   "pygments_lexer": "ipython3",
   "version": "3.11.5"
  },
  "toc": {
   "base_numbering": 1,
   "nav_menu": {},
   "number_sections": true,
   "sideBar": true,
   "skip_h1_title": false,
   "title_cell": "Table of Contents",
   "title_sidebar": "Contents",
   "toc_cell": false,
   "toc_position": {},
   "toc_section_display": true,
   "toc_window_display": false
  },
  "varInspector": {
   "cols": {
    "lenName": 16,
    "lenType": 16,
    "lenVar": 40
   },
   "kernels_config": {
    "python": {
     "delete_cmd_postfix": "",
     "delete_cmd_prefix": "del ",
     "library": "var_list.py",
     "varRefreshCmd": "print(var_dic_list())"
    },
    "r": {
     "delete_cmd_postfix": ") ",
     "delete_cmd_prefix": "rm(",
     "library": "var_list.r",
     "varRefreshCmd": "cat(var_dic_list()) "
    }
   },
   "types_to_exclude": [
    "module",
    "function",
    "builtin_function_or_method",
    "instance",
    "_Feature"
   ],
   "window_display": false
  },
  "vscode": {
   "interpreter": {
    "hash": "31f2aee4e71d21fbe5cf8b01ff0e069b9275f58929596ceb00d14d90e3e16cd6"
   }
  }
 },
 "nbformat": 4,
 "nbformat_minor": 5
}
