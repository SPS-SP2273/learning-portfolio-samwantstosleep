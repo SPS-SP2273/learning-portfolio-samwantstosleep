{
 "cells": [
  {
   "cell_type": "markdown",
   "id": "123456",
   "metadata": {},
   "source": [
    "<div style=\"text-align:left;font-size:2em\"><span style=\"font-weight:bolder;font-size:1.25em\">SP2273 | Learning Portfolio</span><br><br><span style=\"font-weight:bold;color:darkred\">Storing Data (Good) Exercises</span></div>"
   ]
  },
  {
   "cell_type": "markdown",
   "id": "bc8dfa8e",
   "metadata": {},
   "source": [
    "## Exercise 1 (total recall)"
   ]
  },
  {
   "cell_type": "markdown",
   "id": "32da98fd",
   "metadata": {},
   "source": [
    "Purely from memory, write short descriptions of the following terms:\n",
    "\n",
    "Subsetting: picking whether you want to use a list or an array??????????????\t\n",
    "Indexing: accessing the specific position of an inde\t\n",
    "Slicing: pick a specific range of indeces from a list/dictionary/array\t\n",
    "Masking: basically a filter to apply on your arrays\t"
   ]
  },
  {
   "cell_type": "markdown",
   "id": "1841c0f0",
   "metadata": {},
   "source": [
    "## Exercise 2 (Show me the ‘odd’ letters)"
   ]
  },
  {
   "cell_type": "code",
   "execution_count": 1,
   "id": "3a956bf9",
   "metadata": {},
   "outputs": [],
   "source": [
    "import numpy as np"
   ]
  },
  {
   "cell_type": "code",
   "execution_count": 2,
   "id": "b01ed84b",
   "metadata": {},
   "outputs": [
    {
     "name": "stdout",
     "output_type": "stream",
     "text": [
      "[ 1  3  2  4  5  7  6  8 10  9]\n"
     ]
    }
   ],
   "source": [
    "np_array_2d = np.array([[1, \"A\"], [3, \"C\"], [2, \"B\"], [4, \"D\"],\n",
    "                        [5, \"E\"], [7, \"G\"], [6, \"F\"], [8, \"H\"],\n",
    "                        [10, \"J\"], [9, \"I\"]])\n",
    "\n",
    "just_the_numbers = np_array_2d[0:, 0]\n",
    "huh = just_the_numbers.astype(int)\n",
    "print(huh) #ok yay it works"
   ]
  },
  {
   "cell_type": "code",
   "execution_count": 3,
   "id": "5ca0d290",
   "metadata": {},
   "outputs": [
    {
     "name": "stdout",
     "output_type": "stream",
     "text": [
      "[['A']\n",
      " ['C']\n",
      " ['E']\n",
      " ['G']\n",
      " ['I']]\n"
     ]
    }
   ],
   "source": [
    "isodd = np.array(huh) % 2\n",
    "\n",
    "mask = isodd == 1\n",
    "print(np_array_2d[:,[1]][mask])"
   ]
  }
 ],
 "metadata": {
  "kernelspec": {
   "display_name": "Python 3 (ipykernel)",
   "language": "python",
   "name": "python3"
  },
  "language_info": {
   "codemirror_mode": {
    "name": "ipython",
    "version": 3
   },
   "file_extension": ".py",
   "mimetype": "text/x-python",
   "name": "python",
   "nbconvert_exporter": "python",
   "pygments_lexer": "ipython3",
   "version": "3.11.5"
  },
  "toc": {
   "base_numbering": 1,
   "nav_menu": {},
   "number_sections": true,
   "sideBar": true,
   "skip_h1_title": false,
   "title_cell": "Table of Contents",
   "title_sidebar": "Contents",
   "toc_cell": false,
   "toc_position": {},
   "toc_section_display": true,
   "toc_window_display": false
  },
  "varInspector": {
   "cols": {
    "lenName": 16,
    "lenType": 16,
    "lenVar": 40
   },
   "kernels_config": {
    "python": {
     "delete_cmd_postfix": "",
     "delete_cmd_prefix": "del ",
     "library": "var_list.py",
     "varRefreshCmd": "print(var_dic_list())"
    },
    "r": {
     "delete_cmd_postfix": ") ",
     "delete_cmd_prefix": "rm(",
     "library": "var_list.r",
     "varRefreshCmd": "cat(var_dic_list()) "
    }
   },
   "types_to_exclude": [
    "module",
    "function",
    "builtin_function_or_method",
    "instance",
    "_Feature"
   ],
   "window_display": false
  },
  "vscode": {
   "interpreter": {
    "hash": "31f2aee4e71d21fbe5cf8b01ff0e069b9275f58929596ceb00d14d90e3e16cd6"
   }
  }
 },
 "nbformat": 4,
 "nbformat_minor": 5
}
