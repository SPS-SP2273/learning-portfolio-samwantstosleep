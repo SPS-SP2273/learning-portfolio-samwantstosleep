{
 "cells": [
  {
   "cell_type": "markdown",
   "id": "cb73afe4-c9e4-484e-bfda-1d9fb53425c0",
   "metadata": {},
   "source": [
    "# **Quadratic Equations**"
   ]
  },
  {
   "cell_type": "markdown",
   "id": "034b6ae9-254c-453b-8659-acfdb5c7ca01",
   "metadata": {},
   "source": [
    "### **Introduction** (ok i italicised the thing)"
   ]
  },
  {
   "cell_type": "markdown",
   "id": "ad79e688-9f73-4145-98aa-79e0815de373",
   "metadata": {},
   "source": [
    "![](https://upload.wikimedia.org/wikipedia/commons/thumb/f/f8/Polynomialdeg2.svg/600px-Polynomialdeg2.svg.png)"
   ]
  },
  {
   "cell_type": "markdown",
   "id": "e8344b26-69c9-4153-97de-2b7b8d72b04f",
   "metadata": {},
   "source": [
    "_(Image from the [Wikipedia page on Quadratic equations](https://en.wikipedia.org/wiki/Quadratic_equation))_"
   ]
  },
  {
   "cell_type": "markdown",
   "id": "5f52befb-1461-4ab9-9000-4633e716e09e",
   "metadata": {},
   "source": [
    "The general form of a quadratic equation is:\n",
    "<center> $ax^2 + bx + c = 0$ </center>"
   ]
  },
  {
   "cell_type": "markdown",
   "id": "9f6c158e-8bcf-47bb-9795-848b6c977897",
   "metadata": {},
   "source": [
    "### **Solutions**"
   ]
  },
  {
   "cell_type": "markdown",
   "id": "ac63e560-8f53-4184-a856-3f688e836464",
   "metadata": {},
   "source": [
    "Provided $a \\ne 0$, we can use an elementary algebraic method called [completing the square](https://en.wikipedia.ord/wiki/Completing_the_square) tp show that a quadratic equation has the following solution:\n",
    "<center> $$\n",
    "x = \\dfrac{-b \\pm \\sqrt{b^2-4ac}}{2a}\n",
    "$$</center>"
   ]
  },
  {
   "cell_type": "markdown",
   "id": "182e22f8-1d38-4019-9100-b75be2709acc",
   "metadata": {},
   "source": [
    "### **Discriminant** (ok i right indented it, and yay it is rendering properly for me now)"
   ]
  },
  {
   "cell_type": "markdown",
   "id": "92210fa3-4640-43ee-8383-d65868ab46bd",
   "metadata": {},
   "source": [
    "The quantity $\\Delta = b^2 - 4ac$ is called the **discriminant** of the equation and decides the nature of its solutions. The table below shows the various possibilities"
   ]
  },
  {
   "cell_type": "markdown",
   "id": "f15c49c4-3114-449a-a427-36376aa109d6",
   "metadata": {},
   "source": [
    "| **Discriminant** | **Roots** |\n",
    "| :--- | :--- |\n",
    "|$$\\Delta = b^2 - 4ac = 0$$ |A single solution of -b/(2a)|\n",
    "|$$\\Delta = b^2 - 4ac \\gt 0$$ |Two distinct solutions|\n",
    "|$$\\Delta = b^2 - 4ac \\lt 0$$ |No real solutions; both are complex|\n",
    "\n",
    "<center> i now realise that :-- means left indent and --: means right indent "
   ]
  },
  {
   "cell_type": "markdown",
   "id": "ad424d82-136f-4622-a052-7bf770ec67d9",
   "metadata": {},
   "source": [
    "# Exercise 2 :D"
   ]
  },
  {
   "cell_type": "markdown",
   "id": "7c6463dc-6d02-4c89-a062-683a9710e206",
   "metadata": {},
   "source": [
    "1. What is a Git **repository**?\n",
    "   - database of our files that we create\n",
    "2. Git keeps track of _Blank_ in the files in our repository\n",
    "   - changes\n",
    "3. What is a **commit**?\n",
    "   - changes on github desktop will be confirmed on the desktop\n",
    "4. What is a **push**?\n",
    "   - changes made on github desktop will be sent to the cloud\n",
    "5. What is a **pull**?\n",
    "   - changes made on the website will be sent to the desktop\n",
    "6. What is the difference between **Github** and **Github Desktop**?\n",
    "   - github is the online cloud where we can share stuff, github desktop is on our local computer that keeps track of local file changes"
   ]
  }
 ],
 "metadata": {
  "kernelspec": {
   "display_name": "Python 3 (ipykernel)",
   "language": "python",
   "name": "python3"
  },
  "language_info": {
   "codemirror_mode": {
    "name": "ipython",
    "version": 3
   },
   "file_extension": ".py",
   "mimetype": "text/x-python",
   "name": "python",
   "nbconvert_exporter": "python",
   "pygments_lexer": "ipython3",
   "version": "3.11.5"
  },
  "toc": {
   "base_numbering": 1,
   "nav_menu": {},
   "number_sections": true,
   "sideBar": true,
   "skip_h1_title": false,
   "title_cell": "Table of Contents",
   "title_sidebar": "Contents",
   "toc_cell": false,
   "toc_position": {},
   "toc_section_display": true,
   "toc_window_display": false
  },
  "varInspector": {
   "cols": {
    "lenName": 16,
    "lenType": 16,
    "lenVar": 40
   },
   "kernels_config": {
    "python": {
     "delete_cmd_postfix": "",
     "delete_cmd_prefix": "del ",
     "library": "var_list.py",
     "varRefreshCmd": "print(var_dic_list())"
    },
    "r": {
     "delete_cmd_postfix": ") ",
     "delete_cmd_prefix": "rm(",
     "library": "var_list.r",
     "varRefreshCmd": "cat(var_dic_list()) "
    }
   },
   "types_to_exclude": [
    "module",
    "function",
    "builtin_function_or_method",
    "instance",
    "_Feature"
   ],
   "window_display": false
  }
 },
 "nbformat": 4,
 "nbformat_minor": 5
}
