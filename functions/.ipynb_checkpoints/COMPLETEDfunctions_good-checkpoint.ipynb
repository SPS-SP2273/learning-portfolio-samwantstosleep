{
 "cells": [
  {
   "cell_type": "markdown",
   "id": "016f0349",
   "metadata": {},
   "source": [
    "# the assert command :D\n",
    "haven't heard of this one before I have been dependent on try, except and raise ^.^ yay new stuff"
   ]
  },
  {
   "cell_type": "code",
   "execution_count": 1,
   "id": "239eccfc",
   "metadata": {},
   "outputs": [],
   "source": [
    "a = 10\n",
    "assert a >= 0, 'a is becoming negative'\n",
    "#this runs. the assert syntax is\n",
    "# assert condition to check, 'message'"
   ]
  },
  {
   "cell_type": "code",
   "execution_count": 2,
   "id": "35d53c82",
   "metadata": {},
   "outputs": [
    {
     "ename": "AssertionError",
     "evalue": "b is becoming negative",
     "output_type": "error",
     "traceback": [
      "\u001b[1;31m---------------------------------------------------------------------------\u001b[0m",
      "\u001b[1;31mAssertionError\u001b[0m                            Traceback (most recent call last)",
      "Cell \u001b[1;32mIn[2], line 2\u001b[0m\n\u001b[0;32m      1\u001b[0m b \u001b[38;5;241m=\u001b[39m \u001b[38;5;241m-\u001b[39m\u001b[38;5;241m1\u001b[39m\n\u001b[1;32m----> 2\u001b[0m \u001b[38;5;28;01massert\u001b[39;00m b \u001b[38;5;241m>\u001b[39m\u001b[38;5;241m=\u001b[39m \u001b[38;5;241m0\u001b[39m, \u001b[38;5;124m'\u001b[39m\u001b[38;5;124mb is becoming negative\u001b[39m\u001b[38;5;124m'\u001b[39m\n\u001b[0;32m      3\u001b[0m \u001b[38;5;66;03m#this won't run. i still don't get the point of assert if it's also gonna give me an error ._.\u001b[39;00m\n",
      "\u001b[1;31mAssertionError\u001b[0m: b is becoming negative"
     ]
    }
   ],
   "source": [
    "b = -1\n",
    "assert b >= 0, 'b is becoming negative'\n",
    "#this won't run. i still don't get the point of assert if it's also gonna give me an error ._."
   ]
  },
  {
   "cell_type": "markdown",
   "id": "492108ef",
   "metadata": {},
   "source": [
    "# try-except :D i love this one ^.^\n",
    "use this to make sure python won't crash when there's an exception"
   ]
  },
  {
   "cell_type": "code",
   "execution_count": 3,
   "id": "969545c3",
   "metadata": {},
   "outputs": [
    {
     "name": "stdout",
     "output_type": "stream",
     "text": [
      "give me a number and I will calculate its squared\n"
     ]
    },
    {
     "ename": "ValueError",
     "evalue": "invalid literal for int() with base 10: 'd'",
     "output_type": "error",
     "traceback": [
      "\u001b[1;31m---------------------------------------------------------------------------\u001b[0m",
      "\u001b[1;31mValueError\u001b[0m                                Traceback (most recent call last)",
      "Cell \u001b[1;32mIn[3], line 4\u001b[0m\n\u001b[0;32m      1\u001b[0m \u001b[38;5;66;03m#this will NOT work \u001b[39;00m\n\u001b[0;32m      3\u001b[0m number \u001b[38;5;241m=\u001b[39m \u001b[38;5;28minput\u001b[39m(\u001b[38;5;124m'\u001b[39m\u001b[38;5;124mgive me a number and I will calculate its square\u001b[39m\u001b[38;5;124m'\u001b[39m)\n\u001b[1;32m----> 4\u001b[0m square \u001b[38;5;241m=\u001b[39m \u001b[38;5;28;43mint\u001b[39;49m\u001b[43m(\u001b[49m\u001b[43mnumber\u001b[49m\u001b[43m)\u001b[49m \u001b[38;5;241m*\u001b[39m\u001b[38;5;241m*\u001b[39m \u001b[38;5;241m2\u001b[39m\n\u001b[0;32m      5\u001b[0m \u001b[38;5;28mprint\u001b[39m(\u001b[38;5;124mf\u001b[39m\u001b[38;5;124m'\u001b[39m\u001b[38;5;124mthe square of \u001b[39m\u001b[38;5;132;01m{\u001b[39;00mnumber\u001b[38;5;132;01m}\u001b[39;00m\u001b[38;5;124m is \u001b[39m\u001b[38;5;132;01m{\u001b[39;00msquare\u001b[38;5;132;01m}\u001b[39;00m\u001b[38;5;124m'\u001b[39m)\n",
      "\u001b[1;31mValueError\u001b[0m: invalid literal for int() with base 10: 'd'"
     ]
    }
   ],
   "source": [
    "#this will NOT work\n",
    "#gets a ValueError big sad\n",
    "\n",
    "number = input('give me a number and I will calculate its square')\n",
    "square = int(number) ** 2\n",
    "print(f'the square of {number} is {square}')"
   ]
  },
  {
   "cell_type": "code",
   "execution_count": 4,
   "id": "92058a84",
   "metadata": {},
   "outputs": [
    {
     "name": "stdout",
     "output_type": "stream",
     "text": [
      "give me a number and I will calculate its squareh\n",
      "put numbers only >:(\n"
     ]
    }
   ],
   "source": [
    "#this will run. hooray for try except :D\n",
    "try:\n",
    "    number = input('give me a number and I will calculate its square')\n",
    "    square = float(number) ** 2\n",
    "    print(f'the square of {number} is {square}')\n",
    "except:\n",
    "    print('put numbers only >:(')"
   ]
  },
  {
   "cell_type": "raw",
   "id": "4c648f0f",
   "metadata": {},
   "source": [
    "idk where to put this note but it's a nice practice to put print() statements so it's easier to understand what the code is doing. if not you'll stare at a blank cell ._."
   ]
  },
  {
   "cell_type": "markdown",
   "id": "cf3b26e0",
   "metadata": {},
   "source": [
    "# func('string') is not the same as func(name='string')\n",
    "## positional, keyword and default arguments"
   ]
  },
  {
   "cell_type": "code",
   "execution_count": 8,
   "id": "3c0989f7",
   "metadata": {},
   "outputs": [
    {
     "name": "stdout",
     "output_type": "stream",
     "text": [
      " 1 |  2 |  3\n",
      " 1 |  2 |  3\n",
      " 1 |  23 |  42\n"
     ]
    }
   ],
   "source": [
    "def side_by_side(x, y, z = 42):\n",
    "    '''\n",
    "    tis a docstring. you can say what a function does inside a function\n",
    "    can even be multiline cool.\n",
    "    '''\n",
    "    print(f'{x: 2d} | {y: 2d} | {z: 2d}')\n",
    "\n",
    "#positional. tell python to assign using positional order\n",
    "side_by_side(1, 2, 3)\n",
    "\n",
    "#keywords. assigns values to x,y,z. order doesn't matter\n",
    "side_by_side(z=3, x=1, y=2)\n",
    "\n",
    "#default. since z is optional, no need to specify\n",
    "side_by_side(1, y=23)"
   ]
  },
  {
   "cell_type": "code",
   "execution_count": 9,
   "id": "051ca06b",
   "metadata": {},
   "outputs": [
    {
     "name": "stdout",
     "output_type": "stream",
     "text": [
      "Help on function side_by_side in module __main__:\n",
      "\n",
      "side_by_side(x, y, z=42)\n",
      "    tis a docstring. you can say what a function does inside a function\n",
      "    can even be multiline cool.\n",
      "\n"
     ]
    }
   ],
   "source": [
    "#find the documentation of a function that we wrote\n",
    "help(side_by_side)"
   ]
  },
  {
   "cell_type": "markdown",
   "id": "e22cc414",
   "metadata": {},
   "source": [
    "# functions can pass as arguments :O"
   ]
  },
  {
   "cell_type": "code",
   "execution_count": 11,
   "id": "b64d2461",
   "metadata": {},
   "outputs": [
    {
     "data": {
      "text/plain": [
       "-0.9854310440968235"
      ]
     },
     "execution_count": 11,
     "metadata": {},
     "output_type": "execute_result"
    }
   ],
   "source": [
    "import numpy as np\n",
    "\n",
    "def my_function(angle, trigfunc):\n",
    "    return trigfunc(angle)\n",
    "\n",
    "my_function(np.pi/2, np.sin) #1.0\n",
    "my_function(np.pi/2, lambda x: np.cos(2**x))\n",
    "\n",
    "#when passing a function as an argument, do NOT include the bracket\n"
   ]
  },
  {
   "cell_type": "markdown",
   "id": "8d7ffaa6",
   "metadata": {},
   "source": [
    "# unpacking stuff. nice for extracting info"
   ]
  },
  {
   "cell_type": "code",
   "execution_count": 12,
   "id": "31fbe82f",
   "metadata": {},
   "outputs": [
    {
     "data": {
      "text/plain": [
       "(1, 2, 3)"
      ]
     },
     "execution_count": 12,
     "metadata": {},
     "output_type": "execute_result"
    }
   ],
   "source": [
    "x,y,z = [1,2,3]\n",
    "x,y,z"
   ]
  },
  {
   "cell_type": "code",
   "execution_count": 13,
   "id": "2cb3f661",
   "metadata": {},
   "outputs": [
    {
     "data": {
      "text/plain": [
       "(1, 2, 3)"
      ]
     },
     "execution_count": 13,
     "metadata": {},
     "output_type": "execute_result"
    }
   ],
   "source": [
    "x,y,z = np.array([1,2,3])\n",
    "x,y,z"
   ]
  },
  {
   "cell_type": "code",
   "execution_count": 14,
   "id": "dbb31d81",
   "metadata": {},
   "outputs": [
    {
     "data": {
      "text/plain": [
       "(1, [2, 3, 4], 5)"
      ]
     },
     "execution_count": 14,
     "metadata": {},
     "output_type": "execute_result"
    }
   ],
   "source": [
    "x, *y, z = np.array([1,2,3,4,5])\n",
    "x,y,z"
   ]
  },
  {
   "cell_type": "code",
   "execution_count": 15,
   "id": "c4ee5097",
   "metadata": {},
   "outputs": [
    {
     "data": {
      "text/plain": [
       "(1, 5)"
      ]
     },
     "execution_count": 15,
     "metadata": {},
     "output_type": "execute_result"
    }
   ],
   "source": [
    "x, *_, y = [1,2,3,4,5]\n",
    "x,y"
   ]
  }
 ],
 "metadata": {
  "kernelspec": {
   "display_name": "Python 3 (ipykernel)",
   "language": "python",
   "name": "python3"
  },
  "language_info": {
   "codemirror_mode": {
    "name": "ipython",
    "version": 3
   },
   "file_extension": ".py",
   "mimetype": "text/x-python",
   "name": "python",
   "nbconvert_exporter": "python",
   "pygments_lexer": "ipython3",
   "version": "3.11.5"
  },
  "toc": {
   "base_numbering": 1,
   "nav_menu": {},
   "number_sections": true,
   "sideBar": true,
   "skip_h1_title": false,
   "title_cell": "Table of Contents",
   "title_sidebar": "Contents",
   "toc_cell": false,
   "toc_position": {},
   "toc_section_display": true,
   "toc_window_display": false
  },
  "varInspector": {
   "cols": {
    "lenName": 16,
    "lenType": 16,
    "lenVar": 40
   },
   "kernels_config": {
    "python": {
     "delete_cmd_postfix": "",
     "delete_cmd_prefix": "del ",
     "library": "var_list.py",
     "varRefreshCmd": "print(var_dic_list())"
    },
    "r": {
     "delete_cmd_postfix": ") ",
     "delete_cmd_prefix": "rm(",
     "library": "var_list.r",
     "varRefreshCmd": "cat(var_dic_list()) "
    }
   },
   "types_to_exclude": [
    "module",
    "function",
    "builtin_function_or_method",
    "instance",
    "_Feature"
   ],
   "window_display": false
  }
 },
 "nbformat": 4,
 "nbformat_minor": 5
}
