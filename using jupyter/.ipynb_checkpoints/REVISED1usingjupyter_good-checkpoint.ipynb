{
 "cells": [
  {
   "cell_type": "markdown",
   "id": "d52f3272-001d-4fa9-8c56-8ea7f2c013a9",
   "metadata": {},
   "source": [
    "# Tips and tricks :D"
   ]
  },
  {
   "cell_type": "markdown",
   "id": "98f54a3a-87b4-49c6-be45-a4a79cc1b24e",
   "metadata": {},
   "source": [
    "### Keyboard shortcuts\n",
    "\n",
    "|**Action**|**Shortcut**|\n",
    "| :--- | ---: |\n",
    "|Run cell | ctrl + enter|\n",
    "|Run cell and move to next cell | shift + enter|\n",
    "|convert cell to code cell| esc + y|\n",
    "|convert cell to markdown| esc + m|\n",
    "|create new cell| esc + a/b for above/below|\n",
    "|copy cells| esc+ c|\n",
    "paste cells| esc + v|\n",
    "merge cells| shift + m|\n",
    "delete cells| esc + d + d|\n",
    "show shortcuts| esc + h|\n",
    "\n",
    "<center>These all work. except the show shortcuts (esc h) :(</center>\n",
    "<center>ok an update: this now works i just had to update jupyter :D</center>"
   ]
  },
  {
   "cell_type": "markdown",
   "id": "07d0fe64-a730-4dc7-8ee9-3608faf3f7ff",
   "metadata": {},
   "source": [
    "### Running terminal commands from Jupyter notebook :O (shell commands)\n",
    "\n",
    "!cd to print current working directory\n",
    "!dir to show a list of all files in folder"
   ]
  },
  {
   "cell_type": "code",
   "execution_count": 4,
   "id": "1b1216a3-7c4e-42f6-9000-98f8cb9a22dc",
   "metadata": {},
   "outputs": [
    {
     "name": "stdout",
     "output_type": "stream",
     "text": [
      "C:\\Users\\saman\\OneDrive\\Desktop\\SP2273\\learning-portfolio-samwantstosleep\\using jupyter\n",
      " Volume in drive C is Local Disk\n",
      " Volume Serial Number is EC92-3040\n",
      "\n",
      " Directory of C:\\Users\\saman\\OneDrive\\Desktop\\SP2273\\learning-portfolio-samwantstosleep\\using jupyter\n",
      "\n",
      "20/01/2024  00:47    <DIR>          .\n",
      "17/01/2024  08:55    <DIR>          ..\n",
      "20/01/2024  00:12    <DIR>          .ipynb_checkpoints\n",
      "18/01/2024  19:22             4,499 COMPLETED-using-jupyter_need.ipynb\n",
      "20/01/2024  00:08            77,099 Screenshot 2024-01-20 000850.png\n",
      "20/01/2024  00:12             3,802 usingjupyter_good-Copy1.ipynb\n",
      "20/01/2024  00:47             4,732 usingjupyter_good.ipynb\n",
      "               4 File(s)         90,132 bytes\n",
      "               3 Dir(s)  37,901,856,768 bytes free\n"
     ]
    }
   ],
   "source": [
    "!cd\n",
    "!dir"
   ]
  },
  {
   "cell_type": "markdown",
   "id": "d21106b9-a913-47c6-baf9-bfa6e6d6be34",
   "metadata": {},
   "source": [
    "# Jupyter Extensions :D (added new stuff)"
   ]
  },
  {
   "cell_type": "markdown",
   "id": "679afdf5-5bf6-4d20-bf37-40eb2f2d4be4",
   "metadata": {},
   "source": [
    "### Installing the extensions\n",
    "for the life of me I can't insert the screenshot of me downloading these. I tried inserting them from my local file, and even tried uploading it to google drive and insert the link. but it still doesn't shot :( send help"
   ]
  },
  {
   "cell_type": "markdown",
   "id": "5978c79c-728b-4512-9420-2f412afed0af",
   "metadata": {},
   "source": [
    "![](C:\\Users\\saman\\OneDrive\\Desktop\\SP2273\\learning-portfolio-samwantstosleep\\using jupyter\\Screenshot 2024-01-20 000850.png)"
   ]
  },
  {
   "cell_type": "markdown",
   "id": "fdf51aa7",
   "metadata": {},
   "source": [
    "### YAY I CAN INSERT LOCAL IMAGES NOW \n",
    "#### i assume this works by the % acting as the space for the file name, and i don't have to include filepath?\n",
    "\n",
    "![](Screenshot%202024-01-20%20000850.png)"
   ]
  },
  {
   "cell_type": "markdown",
   "id": "294f88d2-6744-4561-8be3-106bddd8a4ad",
   "metadata": {},
   "source": [
    "![](https://drive.google.com/file/d/1qJiS5Eo-GVrW_Ik3vgWH6uJGlZv4_gtK/view?usp=sharing)"
   ]
  },
  {
   "cell_type": "markdown",
   "id": "26e694da-391f-42e0-ac54-3d5e5aea4b0f",
   "metadata": {},
   "source": [
    "![](https://dotesports.com/wp-content/uploads/2022/12/Pokemon-Eevee.png?resize=768,432)\n",
    "\n",
    "Yes, I know how to insert images using a link and the jupyter extension did not break anything. enjoy an eevee. :("
   ]
  },
  {
   "cell_type": "markdown",
   "id": "f5b27482",
   "metadata": {},
   "source": [
    "# Shell magic :D (added new stuff)"
   ]
  },
  {
   "cell_type": "code",
   "execution_count": 3,
   "id": "ec091bf1",
   "metadata": {},
   "outputs": [
    {
     "name": "stdout",
     "output_type": "stream",
     "text": [
      "75.2 ns ± 0.632 ns per loop (mean ± std. dev. of 7 runs, 10,000,000 loops each)\n"
     ]
    }
   ],
   "source": [
    "%%timeit\n",
    "x=10\n",
    "y=10\n",
    "z=10\n",
    "#basically %%timeit this gives statistics on how long the command takes to execute (works for a cell)"
   ]
  },
  {
   "cell_type": "code",
   "execution_count": 2,
   "id": "cac276ae",
   "metadata": {},
   "outputs": [
    {
     "data": {
      "application/json": {
       "cell": {
        "!": "OSMagics",
        "HTML": "Other",
        "SVG": "Other",
        "bash": "Other",
        "capture": "ExecutionMagics",
        "cmd": "Other",
        "code_wrap": "ExecutionMagics",
        "debug": "ExecutionMagics",
        "file": "Other",
        "html": "DisplayMagics",
        "javascript": "DisplayMagics",
        "js": "DisplayMagics",
        "latex": "DisplayMagics",
        "markdown": "DisplayMagics",
        "perl": "Other",
        "prun": "ExecutionMagics",
        "pypy": "Other",
        "python": "Other",
        "python2": "Other",
        "python3": "Other",
        "ruby": "Other",
        "script": "ScriptMagics",
        "sh": "Other",
        "svg": "DisplayMagics",
        "sx": "OSMagics",
        "system": "OSMagics",
        "time": "ExecutionMagics",
        "timeit": "ExecutionMagics",
        "writefile": "OSMagics"
       },
       "line": {
        "alias": "OSMagics",
        "alias_magic": "BasicMagics",
        "autoawait": "AsyncMagics",
        "autocall": "AutoMagics",
        "automagic": "AutoMagics",
        "autosave": "KernelMagics",
        "bookmark": "OSMagics",
        "cd": "OSMagics",
        "clear": "KernelMagics",
        "cls": "KernelMagics",
        "code_wrap": "ExecutionMagics",
        "colors": "BasicMagics",
        "conda": "PackagingMagics",
        "config": "ConfigMagics",
        "connect_info": "KernelMagics",
        "copy": "Other",
        "ddir": "Other",
        "debug": "ExecutionMagics",
        "dhist": "OSMagics",
        "dirs": "OSMagics",
        "doctest_mode": "BasicMagics",
        "echo": "Other",
        "ed": "Other",
        "edit": "KernelMagics",
        "env": "OSMagics",
        "gui": "BasicMagics",
        "hist": "Other",
        "history": "HistoryMagics",
        "killbgscripts": "ScriptMagics",
        "ldir": "Other",
        "less": "KernelMagics",
        "load": "CodeMagics",
        "load_ext": "ExtensionMagics",
        "loadpy": "CodeMagics",
        "logoff": "LoggingMagics",
        "logon": "LoggingMagics",
        "logstart": "LoggingMagics",
        "logstate": "LoggingMagics",
        "logstop": "LoggingMagics",
        "ls": "Other",
        "lsmagic": "BasicMagics",
        "macro": "ExecutionMagics",
        "magic": "BasicMagics",
        "mamba": "PackagingMagics",
        "matplotlib": "PylabMagics",
        "micromamba": "PackagingMagics",
        "mkdir": "Other",
        "more": "KernelMagics",
        "notebook": "BasicMagics",
        "page": "BasicMagics",
        "pastebin": "CodeMagics",
        "pdb": "ExecutionMagics",
        "pdef": "NamespaceMagics",
        "pdoc": "NamespaceMagics",
        "pfile": "NamespaceMagics",
        "pinfo": "NamespaceMagics",
        "pinfo2": "NamespaceMagics",
        "pip": "PackagingMagics",
        "popd": "OSMagics",
        "pprint": "BasicMagics",
        "precision": "BasicMagics",
        "prun": "ExecutionMagics",
        "psearch": "NamespaceMagics",
        "psource": "NamespaceMagics",
        "pushd": "OSMagics",
        "pwd": "OSMagics",
        "pycat": "OSMagics",
        "pylab": "PylabMagics",
        "qtconsole": "KernelMagics",
        "quickref": "BasicMagics",
        "recall": "HistoryMagics",
        "rehashx": "OSMagics",
        "reload_ext": "ExtensionMagics",
        "ren": "Other",
        "rep": "Other",
        "rerun": "HistoryMagics",
        "reset": "NamespaceMagics",
        "reset_selective": "NamespaceMagics",
        "rmdir": "Other",
        "run": "ExecutionMagics",
        "save": "CodeMagics",
        "sc": "OSMagics",
        "set_env": "OSMagics",
        "store": "StoreMagics",
        "sx": "OSMagics",
        "system": "OSMagics",
        "tb": "ExecutionMagics",
        "time": "ExecutionMagics",
        "timeit": "ExecutionMagics",
        "unalias": "OSMagics",
        "unload_ext": "ExtensionMagics",
        "who": "NamespaceMagics",
        "who_ls": "NamespaceMagics",
        "whos": "NamespaceMagics",
        "xdel": "NamespaceMagics",
        "xmode": "BasicMagics"
       }
      },
      "text/plain": [
       "Available line magics:\n",
       "%alias  %alias_magic  %autoawait  %autocall  %automagic  %autosave  %bookmark  %cd  %clear  %cls  %code_wrap  %colors  %conda  %config  %connect_info  %copy  %ddir  %debug  %dhist  %dirs  %doctest_mode  %echo  %ed  %edit  %env  %gui  %hist  %history  %killbgscripts  %ldir  %less  %load  %load_ext  %loadpy  %logoff  %logon  %logstart  %logstate  %logstop  %ls  %lsmagic  %macro  %magic  %mamba  %matplotlib  %micromamba  %mkdir  %more  %notebook  %page  %pastebin  %pdb  %pdef  %pdoc  %pfile  %pinfo  %pinfo2  %pip  %popd  %pprint  %precision  %prun  %psearch  %psource  %pushd  %pwd  %pycat  %pylab  %qtconsole  %quickref  %recall  %rehashx  %reload_ext  %ren  %rep  %rerun  %reset  %reset_selective  %rmdir  %run  %save  %sc  %set_env  %store  %sx  %system  %tb  %time  %timeit  %unalias  %unload_ext  %who  %who_ls  %whos  %xdel  %xmode\n",
       "\n",
       "Available cell magics:\n",
       "%%!  %%HTML  %%SVG  %%bash  %%capture  %%cmd  %%code_wrap  %%debug  %%file  %%html  %%javascript  %%js  %%latex  %%markdown  %%perl  %%prun  %%pypy  %%python  %%python2  %%python3  %%ruby  %%script  %%sh  %%svg  %%sx  %%system  %%time  %%timeit  %%writefile\n",
       "\n",
       "Automagic is ON, % prefix IS NOT needed for line magics."
      ]
     },
     "execution_count": 2,
     "metadata": {},
     "output_type": "execute_result"
    }
   ],
   "source": [
    "%lsmagic\n",
    "#basically shows all the line magics"
   ]
  },
  {
   "cell_type": "code",
   "execution_count": 1,
   "id": "b8b35ab9",
   "metadata": {},
   "outputs": [
    {
     "name": "stdout",
     "output_type": "stream",
     "text": [
      "Total number of aliases: 8\n"
     ]
    },
    {
     "data": {
      "text/plain": [
       "[('copy', 'copy'),\n",
       " ('ddir', 'dir /ad /on'),\n",
       " ('echo', 'echo'),\n",
       " ('ldir', 'dir /ad /on'),\n",
       " ('ls', 'dir /on'),\n",
       " ('mkdir', 'mkdir'),\n",
       " ('ren', 'ren'),\n",
       " ('rmdir', 'rmdir')]"
      ]
     },
     "execution_count": 1,
     "metadata": {},
     "output_type": "execute_result"
    }
   ],
   "source": [
    "alias #ooh line magics don't need the percentage %"
   ]
  },
  {
   "cell_type": "markdown",
   "id": "59f31694",
   "metadata": {},
   "source": [
    "# The Kernel\n",
    "use the kernel button to restart jupyter"
   ]
  }
 ],
 "metadata": {
  "kernelspec": {
   "display_name": "Python 3 (ipykernel)",
   "language": "python",
   "name": "python3"
  },
  "language_info": {
   "codemirror_mode": {
    "name": "ipython",
    "version": 3
   },
   "file_extension": ".py",
   "mimetype": "text/x-python",
   "name": "python",
   "nbconvert_exporter": "python",
   "pygments_lexer": "ipython3",
   "version": "3.11.5"
  },
  "toc": {
   "base_numbering": 1,
   "nav_menu": {},
   "number_sections": true,
   "sideBar": true,
   "skip_h1_title": false,
   "title_cell": "Table of Contents",
   "title_sidebar": "Contents",
   "toc_cell": false,
   "toc_position": {},
   "toc_section_display": true,
   "toc_window_display": false
  },
  "varInspector": {
   "cols": {
    "lenName": 16,
    "lenType": 16,
    "lenVar": 40
   },
   "kernels_config": {
    "python": {
     "delete_cmd_postfix": "",
     "delete_cmd_prefix": "del ",
     "library": "var_list.py",
     "varRefreshCmd": "print(var_dic_list())"
    },
    "r": {
     "delete_cmd_postfix": ") ",
     "delete_cmd_prefix": "rm(",
     "library": "var_list.r",
     "varRefreshCmd": "cat(var_dic_list()) "
    }
   },
   "types_to_exclude": [
    "module",
    "function",
    "builtin_function_or_method",
    "instance",
    "_Feature"
   ],
   "window_display": false
  }
 },
 "nbformat": 4,
 "nbformat_minor": 5
}
