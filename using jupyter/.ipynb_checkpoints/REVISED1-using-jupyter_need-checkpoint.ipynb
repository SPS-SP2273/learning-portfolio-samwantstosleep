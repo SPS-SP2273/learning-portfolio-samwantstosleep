{
 "cells": [
  {
   "cell_type": "markdown",
   "id": "5fe06ebd-d83e-47fd-b33a-12b29b20645f",
   "metadata": {},
   "source": [
    "# Cool i made a giant markdown cell"
   ]
  },
  {
   "cell_type": "markdown",
   "id": "a7fba3f3-98a9-4a5b-81a7-f54ed8b5b653",
   "metadata": {},
   "source": [
    "### Testing some stuff"
   ]
  },
  {
   "cell_type": "code",
   "execution_count": 1,
   "id": "a8c35068",
   "metadata": {},
   "outputs": [
    {
     "name": "stdout",
     "output_type": "stream",
     "text": [
      "Hello World\n"
     ]
    }
   ],
   "source": [
    "print('Hello World')"
   ]
  },
  {
   "cell_type": "markdown",
   "id": "f281027b-43eb-419f-88f8-52c041afa524",
   "metadata": {},
   "source": [
    "The ships hung in the sky in much the same way that bricks don’t."
   ]
  },
  {
   "cell_type": "markdown",
   "id": "e1fea9ed-85ac-47f9-be85-73decdfcbfaf",
   "metadata": {},
   "source": [
    "# Markdown things for me to remember"
   ]
  },
  {
   "cell_type": "code",
   "execution_count": 2,
   "id": "a6904bdf-0a82-49f8-aecb-3475463ac1c3",
   "metadata": {},
   "outputs": [],
   "source": [
    "# ** BOLD TEXT **\n",
    "# _ ITALIC TEXT _\n",
    "# *** BOLD AND ITALIC TEXT ***\n",
    "# <sub> INSERT SUBSCRIPT TEXT HERE </sub>\n",
    "# <sup> INSERT SUPERSCRIPT TEXT HERE </sup>\n",
    "# [INSERT DISPLAY TEXT](insert link url, including https)\n",
    "# ![](insert image link)"
   ]
  },
  {
   "cell_type": "markdown",
   "id": "1a2327cb",
   "metadata": {},
   "source": [
    "# displaying code (just added this)"
   ]
  },
  {
   "cell_type": "markdown",
   "id": "501d1c61",
   "metadata": {},
   "source": [
    "tis to enclose a code inline between 2 backticks (this one `)"
   ]
  },
  {
   "cell_type": "markdown",
   "id": "1a0a579d",
   "metadata": {},
   "source": [
    "`print('insert thing to display')`"
   ]
  },
  {
   "cell_type": "markdown",
   "id": "47d3278b",
   "metadata": {},
   "source": [
    "the one above this line is inline code, the one below this is block code"
   ]
  },
  {
   "cell_type": "markdown",
   "id": "cfdc3db5",
   "metadata": {},
   "source": [
    "```python\n",
    "print('this is cool')\n",
    "print('woah technology')\n",
    "```"
   ]
  },
  {
   "cell_type": "markdown",
   "id": "36a225c3-6461-4606-90e6-8c7afad44711",
   "metadata": {},
   "source": [
    "#### The ships *hung in the sky* in much the same way that **bricks don't.**<sup>1</sup><sub>QUOTE</sub>"
   ]
  },
  {
   "cell_type": "markdown",
   "id": "64ead177-77c0-4031-ba46-5dbeec6070b6",
   "metadata": {},
   "source": [
    "#### You and I will have problems if you do not know about **The Hitchhiker's Guide to the Galaxy**"
   ]
  },
  {
   "cell_type": "markdown",
   "id": "68c2d6ad-cd4e-435a-b1d2-349bbf64e4ef",
   "metadata": {},
   "source": [
    "#### [SP2273 Website](https://sps.nus.edu.sg/sp2273)"
   ]
  },
  {
   "cell_type": "markdown",
   "id": "28591aca-affe-42f9-877e-2168319f4638",
   "metadata": {},
   "source": [
    "![](https://nus.edu.sg/images/default-source/base/logo.png)"
   ]
  },
  {
   "cell_type": "raw",
   "id": "f4db79b4-3cd5-4296-91a7-e9cae83b839c",
   "metadata": {},
   "source": [
    "| A    |  B   |    C |\n",
    "| :--- | :--: | ---: |\n",
    "| a1   |  b1  |   c1     tis how to format tables. |\n",
    "| a2   |  b2  |   c2 |\n",
    "| a3   |  b3  |   c3 |"
   ]
  },
  {
   "cell_type": "markdown",
   "id": "41e72a18-04be-4fbb-a166-224133080fe8",
   "metadata": {},
   "source": [
    "|hello | TA | that |\n",
    "| :--- | :--: | ---: |\n",
    "| will | see | this |"
   ]
  },
  {
   "cell_type": "markdown",
   "id": "ab1f1c62",
   "metadata": {},
   "source": [
    "# lists (just added this)"
   ]
  },
  {
   "cell_type": "markdown",
   "id": "01ba07ae",
   "metadata": {},
   "source": [
    "1. apple\n",
    "1. banana\n",
    "1. cherry\n",
    "(write as 1. 1. 1.)"
   ]
  },
  {
   "cell_type": "markdown",
   "id": "997880e7",
   "metadata": {},
   "source": [
    "- durian\n",
    "- egg\n",
    "- fruit loops\n",
    "(write as - - -)"
   ]
  },
  {
   "cell_type": "markdown",
   "id": "561eb020",
   "metadata": {},
   "source": [
    "1. once upon a time\n",
    "    1. samantha had a gray fish\n",
    "    1. and another gray fish\n",
    "1. the two fishes were besties\n",
    "    1. they always swam together\n",
    "    1. they bonded for many years\n",
    "1. but then, one of the fishes died\n",
    "    1. the other fish was distraught\n",
    "    1. he proceeded to jump out of the tank\n",
    "1. this is a true story\n",
    "    1. rest in peace fishes"
   ]
  },
  {
   "cell_type": "markdown",
   "id": "221ae445",
   "metadata": {},
   "source": [
    "1. did you like my fish story :(\n",
    "    - i will do my best to make these notebooks entertaining\n",
    "    - beware future nonsense\n",
    "1. this is also for my sanity\n",
    "    - if i gotta make notebooks i might as well have fun with them :)"
   ]
  },
  {
   "cell_type": "markdown",
   "id": "92bf0577-cea6-4ca9-b3eb-92df861b5c7c",
   "metadata": {},
   "source": [
    "# Markdown equation stuff!"
   ]
  },
  {
   "cell_type": "raw",
   "id": "f3be77c3-e8ca-41f7-b888-b8f8753dd182",
   "metadata": {},
   "source": [
    "$\\dfrac{x}{y}$ for fractions\n",
    "$x_{b}$ for subscripts\n",
    "$x^{(x+w)}$\n",
    "$\\sqrt{x+y+z}$ for squareroot stuff\n",
    "$\\sum_{n=2}^{n=\\infty} x_n$ for the sigma sum stuff\n",
    "$\\int_{x=3}^{x=\\infty} f(x+1)dx$ for integrals\n",
    "a \\ne b for not equal\n",
    "$a \\lt b$ for less than\n",
    "$a \\leq b$ for less than or equal. greater than is gt, greater than or equal is geq. same format\n",
    "\n",
    "they have greek letters too :O\n",
    "$\\alpha, \\beta, \\gamma, \\pi, \\lambda$"
   ]
  },
  {
   "cell_type": "markdown",
   "id": "fa19705e-e7fc-4254-9757-66bd7a40bfba",
   "metadata": {},
   "source": [
    "$\\dfrac{x}{y}$ \n",
    "$x_{b}$ \n",
    "$x^{(x+w)}$\n",
    "$\\sqrt{x+y+z}$ \n",
    "$\\sum_{n=2}^{n=\\infty} x_n$ \n",
    "$\\int_{x=3}^{x=\\infty} f(x+1)dx$ \n",
    "$a \\ne b$\n",
    "$a \\lt b$ \n",
    "$a \\leq b$ \n",
    "$\\alpha, \\beta, \\gamma, \\pi, \\lambda$"
   ]
  },
  {
   "cell_type": "markdown",
   "id": "876323e6",
   "metadata": {},
   "source": [
    "okie i got my $a \\ne b$ to render properly :D"
   ]
  }
 ],
 "metadata": {
  "kernelspec": {
   "display_name": "Python 3 (ipykernel)",
   "language": "python",
   "name": "python3"
  },
  "language_info": {
   "codemirror_mode": {
    "name": "ipython",
    "version": 3
   },
   "file_extension": ".py",
   "mimetype": "text/x-python",
   "name": "python",
   "nbconvert_exporter": "python",
   "pygments_lexer": "ipython3",
   "version": "3.11.5"
  },
  "toc": {
   "base_numbering": 1,
   "nav_menu": {},
   "number_sections": true,
   "sideBar": true,
   "skip_h1_title": false,
   "title_cell": "Table of Contents",
   "title_sidebar": "Contents",
   "toc_cell": false,
   "toc_position": {},
   "toc_section_display": true,
   "toc_window_display": false
  },
  "varInspector": {
   "cols": {
    "lenName": 16,
    "lenType": 16,
    "lenVar": 40
   },
   "kernels_config": {
    "python": {
     "delete_cmd_postfix": "",
     "delete_cmd_prefix": "del ",
     "library": "var_list.py",
     "varRefreshCmd": "print(var_dic_list())"
    },
    "r": {
     "delete_cmd_postfix": ") ",
     "delete_cmd_prefix": "rm(",
     "library": "var_list.r",
     "varRefreshCmd": "cat(var_dic_list()) "
    }
   },
   "types_to_exclude": [
    "module",
    "function",
    "builtin_function_or_method",
    "instance",
    "_Feature"
   ],
   "window_display": false
  }
 },
 "nbformat": 4,
 "nbformat_minor": 5
}
