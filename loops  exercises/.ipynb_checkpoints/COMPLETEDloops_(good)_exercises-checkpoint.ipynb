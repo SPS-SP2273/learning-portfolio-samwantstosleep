{
 "cells": [
  {
   "cell_type": "markdown",
   "id": "123456",
   "metadata": {},
   "source": [
    "<div style=\"text-align:left;font-size:2em\"><span style=\"font-weight:bolder;font-size:1.25em\">SP2273 | Learning Portfolio</span><br><br><span style=\"font-weight:bold;color:darkred\">Loops (Good) Exercises</span></div>"
   ]
  },
  {
   "cell_type": "markdown",
   "id": "37d5d6ff",
   "metadata": {},
   "source": [
    "## Exercise 1 (make an odd list)"
   ]
  },
  {
   "cell_type": "code",
   "execution_count": 1,
   "id": "9bdf78f7",
   "metadata": {},
   "outputs": [
    {
     "name": "stdout",
     "output_type": "stream",
     "text": [
      "[1, 3, 5, 7, 9]\n",
      "[ 1  9 25 49 81]\n"
     ]
    }
   ],
   "source": [
    "import numpy as np\n",
    "\n",
    "lst = []\n",
    "\n",
    "for i in range(0,10):\n",
    "    if i % 2 != 0:\n",
    "        lst.append(i)\n",
    "print(lst)\n",
    "eh = np.array(lst)\n",
    "squares_odd = np.array(eh**2)\n",
    "print(squares_odd)"
   ]
  },
  {
   "cell_type": "markdown",
   "id": "78989bde",
   "metadata": {},
   "source": [
    "## Exercise 2 (make an odd list, but with list comprehension)"
   ]
  },
  {
   "cell_type": "code",
   "execution_count": 2,
   "id": "fb075f30",
   "metadata": {},
   "outputs": [
    {
     "name": "stdout",
     "output_type": "stream",
     "text": [
      "[1, 9, 25, 49, 81]\n"
     ]
    }
   ],
   "source": [
    "liist = [i**2 for i in range(0,10) if i % 2 != 0]\n",
    "print(liist)"
   ]
  },
  {
   "cell_type": "markdown",
   "id": "26bbef97",
   "metadata": {},
   "source": [
    "## Exercise 3 (time it :D)"
   ]
  },
  {
   "cell_type": "code",
   "execution_count": 3,
   "id": "b176ba68",
   "metadata": {},
   "outputs": [
    {
     "name": "stdout",
     "output_type": "stream",
     "text": [
      "8.61 µs ± 777 ns per loop (mean ± std. dev. of 7 runs, 100,000 loops each)\n"
     ]
    }
   ],
   "source": [
    "%%timeit\n",
    "\n",
    "lst = []\n",
    "\n",
    "for i in range(0,10):\n",
    "    if i % 2 != 0:\n",
    "        lst.append(i)\n",
    "eh = np.array(lst)\n",
    "squares_odd = np.array(eh**2)\n",
    "\n",
    "#8.48 µs ± 413 ns per loop (mean ± std. dev. of 7 runs, 100,000 loops each)"
   ]
  },
  {
   "cell_type": "code",
   "execution_count": 4,
   "id": "cb2b5d95",
   "metadata": {},
   "outputs": [
    {
     "name": "stdout",
     "output_type": "stream",
     "text": [
      "3.05 µs ± 57.3 ns per loop (mean ± std. dev. of 7 runs, 100,000 loops each)\n"
     ]
    }
   ],
   "source": [
    "%%timeit\n",
    "\n",
    "liist = [i**2 for i in range(0,10) if i % 2 != 0]\n",
    "\n",
    "#3.09 µs ± 76.3 ns per loop (mean ± std. dev. of 7 runs, 100,000 loops each)\n",
    "#wow this is a lost faster"
   ]
  },
  {
   "cell_type": "markdown",
   "id": "f66f5e5c",
   "metadata": {},
   "source": [
    "## Exercise 4 (a problem of decay)"
   ]
  },
  {
   "cell_type": "code",
   "execution_count": 6,
   "id": "37729a10",
   "metadata": {},
   "outputs": [
    {
     "name": "stdout",
     "output_type": "stream",
     "text": [
      "14\n"
     ]
    }
   ],
   "source": [
    "radio = 100\n",
    "year = 0\n",
    "\n",
    "while radio >= 50:\n",
    "    radio *= 0.95\n",
    "    year += 1\n",
    "print(year)    "
   ]
  },
  {
   "cell_type": "markdown",
   "id": "7b8f037c",
   "metadata": {},
   "source": [
    "## Exercise 5 (changes in CO2)"
   ]
  },
  {
   "cell_type": "code",
   "execution_count": 9,
   "id": "2ae82865",
   "metadata": {},
   "outputs": [
    {
     "name": "stdout",
     "output_type": "stream",
     "text": [
      "2016 3.410000000000025\n"
     ]
    }
   ],
   "source": [
    "co2_data = [\n",
    "    (2000, 369.55), (2001, 371.14), (2002, 373.28), \n",
    "    (2003, 375.80), (2004, 377.52), (2005, 379.80), \n",
    "    (2006, 381.90), (2007, 383.79), (2008, 385.60), \n",
    "    (2009, 387.43), (2010, 389.90), (2011, 391.65), \n",
    "    (2012, 393.85), (2013, 396.52), (2014, 398.65),\n",
    "    (2015, 400.83), (2016, 404.24), (2017, 406.55), \n",
    "    (2018, 408.52), (2019, 411.44), (2020, 414.24)]\n",
    "\n",
    "year = co2_data[0][0]\n",
    "co2_level = co2_data[0][1]\n",
    "\n",
    "for yeer, co2 in co2_data[1:]:\n",
    "    concchange = co2 - co2_level\n",
    "    if concchange >= 3:\n",
    "        print(yeer, concchange)\n",
    "    year = yeer\n",
    "    co2_level = co2 #added these 2 lines coz the differences just keep on adding if i dont"
   ]
  }
 ],
 "metadata": {
  "kernelspec": {
   "display_name": "Python 3 (ipykernel)",
   "language": "python",
   "name": "python3"
  },
  "language_info": {
   "codemirror_mode": {
    "name": "ipython",
    "version": 3
   },
   "file_extension": ".py",
   "mimetype": "text/x-python",
   "name": "python",
   "nbconvert_exporter": "python",
   "pygments_lexer": "ipython3",
   "version": "3.11.5"
  },
  "toc": {
   "base_numbering": 1,
   "nav_menu": {},
   "number_sections": true,
   "sideBar": true,
   "skip_h1_title": false,
   "title_cell": "Table of Contents",
   "title_sidebar": "Contents",
   "toc_cell": false,
   "toc_position": {},
   "toc_section_display": true,
   "toc_window_display": false
  },
  "varInspector": {
   "cols": {
    "lenName": 16,
    "lenType": 16,
    "lenVar": 40
   },
   "kernels_config": {
    "python": {
     "delete_cmd_postfix": "",
     "delete_cmd_prefix": "del ",
     "library": "var_list.py",
     "varRefreshCmd": "print(var_dic_list())"
    },
    "r": {
     "delete_cmd_postfix": ") ",
     "delete_cmd_prefix": "rm(",
     "library": "var_list.r",
     "varRefreshCmd": "cat(var_dic_list()) "
    }
   },
   "types_to_exclude": [
    "module",
    "function",
    "builtin_function_or_method",
    "instance",
    "_Feature"
   ],
   "window_display": false
  },
  "vscode": {
   "interpreter": {
    "hash": "31f2aee4e71d21fbe5cf8b01ff0e069b9275f58929596ceb00d14d90e3e16cd6"
   }
  }
 },
 "nbformat": 4,
 "nbformat_minor": 5
}
