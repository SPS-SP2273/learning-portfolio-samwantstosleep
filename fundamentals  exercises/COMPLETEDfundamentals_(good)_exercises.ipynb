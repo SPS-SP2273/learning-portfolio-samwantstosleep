{
 "cells": [
  {
   "cell_type": "markdown",
   "id": "123456",
   "metadata": {},
   "source": [
    "<div style=\"text-align:left;font-size:2em\"><span style=\"font-weight:bolder;font-size:1.25em\">SP2273 | Learning Portfolio</span><br><br><span style=\"font-weight:bold;color:darkred\">Fundamentals (Good) Exercises</span></div>"
   ]
  },
  {
   "cell_type": "code",
   "execution_count": 1,
   "id": "2e28da4e",
   "metadata": {},
   "outputs": [
    {
     "name": "stdout",
     "output_type": "stream",
     "text": [
      "Give me a number5\n",
      "You entered  5\n"
     ]
    }
   ],
   "source": [
    "user_input = input('Give me a number')\n",
    "print('You entered ', user_input) #writing it here for my reference"
   ]
  },
  {
   "cell_type": "code",
   "execution_count": 2,
   "id": "6b525a07",
   "metadata": {},
   "outputs": [
    {
     "name": "stdout",
     "output_type": "stream",
     "text": [
      "Enter the student's score: 100\n",
      "The student's letter grade is: A\n"
     ]
    }
   ],
   "source": [
    "try: #okie i changed the variable to be called score instead of grade\n",
    "    score = float(input('Enter the student\\'s score: ')) \n",
    "    if 70 <= score <= 100: #ok oops my bad i added the <= 100\n",
    "        print('The student\\'s letter grade is: A')\n",
    "    elif 50 <= score < 70:\n",
    "        print('The student\\'s letter grade is: B')\n",
    "    elif 35 <= score < 50:\n",
    "        print('The student\\'s letter grade is: C')\n",
    "    elif 0 <= score < 35:\n",
    "        print('The student failed.')\n",
    "    elif score > 100: #i already had a line here that gave a proper output when grade>100\n",
    "        print('The student\\'s letter grade is: A++++. genius :D')\n",
    "    elif score < 0: #and for negative marks hehe\n",
    "        print('How does one get negative marks??????')\n",
    "except ValueError:\n",
    "    print('Please input a number... -_-')\n",
    " \n",
    "# i went insane over trying to input a string so i gave up and just used try"
   ]
  }
 ],
 "metadata": {
  "kernelspec": {
   "display_name": "Python 3 (ipykernel)",
   "language": "python",
   "name": "python3"
  },
  "language_info": {
   "codemirror_mode": {
    "name": "ipython",
    "version": 3
   },
   "file_extension": ".py",
   "mimetype": "text/x-python",
   "name": "python",
   "nbconvert_exporter": "python",
   "pygments_lexer": "ipython3",
   "version": "3.11.5"
  },
  "toc": {
   "base_numbering": 1,
   "nav_menu": {},
   "number_sections": true,
   "sideBar": true,
   "skip_h1_title": false,
   "title_cell": "Table of Contents",
   "title_sidebar": "Contents",
   "toc_cell": false,
   "toc_position": {},
   "toc_section_display": true,
   "toc_window_display": false
  },
  "varInspector": {
   "cols": {
    "lenName": 16,
    "lenType": 16,
    "lenVar": 40
   },
   "kernels_config": {
    "python": {
     "delete_cmd_postfix": "",
     "delete_cmd_prefix": "del ",
     "library": "var_list.py",
     "varRefreshCmd": "print(var_dic_list())"
    },
    "r": {
     "delete_cmd_postfix": ") ",
     "delete_cmd_prefix": "rm(",
     "library": "var_list.r",
     "varRefreshCmd": "cat(var_dic_list()) "
    }
   },
   "types_to_exclude": [
    "module",
    "function",
    "builtin_function_or_method",
    "instance",
    "_Feature"
   ],
   "window_display": false
  },
  "vscode": {
   "interpreter": {
    "hash": "31f2aee4e71d21fbe5cf8b01ff0e069b9275f58929596ceb00d14d90e3e16cd6"
   }
  }
 },
 "nbformat": 4,
 "nbformat_minor": 5
}
