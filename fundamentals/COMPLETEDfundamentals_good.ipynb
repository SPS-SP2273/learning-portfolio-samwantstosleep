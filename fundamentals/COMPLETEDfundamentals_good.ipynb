{
 "cells": [
  {
   "cell_type": "markdown",
   "id": "cf91c913",
   "metadata": {},
   "source": [
    "# if, elif, else :D"
   ]
  },
  {
   "cell_type": "code",
   "execution_count": 1,
   "id": "ad2b7782",
   "metadata": {},
   "outputs": [
    {
     "name": "stdout",
     "output_type": "stream",
     "text": [
      "I am Batman.\n"
     ]
    }
   ],
   "source": [
    "name = 'Batman'\n",
    "\n",
    "if name == 'Batman':\n",
    "    print('I am Batman.')\n",
    "elif name == 'Robin':\n",
    "    print('Hey Robin!')\n",
    "else:\n",
    "    print('Hello world :D')"
   ]
  },
  {
   "cell_type": "markdown",
   "id": "1e675bd4",
   "metadata": {},
   "source": [
    "# use in to check if something is in something"
   ]
  },
  {
   "cell_type": "code",
   "execution_count": 5,
   "id": "d1e705dc",
   "metadata": {},
   "outputs": [
    {
     "name": "stdout",
     "output_type": "stream",
     "text": [
      "True False True True True True True\n"
     ]
    }
   ],
   "source": [
    "fruits = ['apple', 'banana', 'pineapple', 'jackfruit']\n",
    "vegetables = ['celery', 'potato', 'brocoli', 'kale']\n",
    "\n",
    "one = 'apple' in fruits\n",
    "two = 'peach' in fruits\n",
    "three = 'peach' not in fruits\n",
    "four =('apple' in fruits) and ('celery' in vegetables)\n",
    "five = ('apple' in fruits) or ('celery' in vegetables)\n",
    "six = 'app' in 'apple'\n",
    "seven = 'mon' in 'lemon'\n",
    "\n",
    "print(one, two, three, four, five, six, seven)"
   ]
  },
  {
   "cell_type": "raw",
   "id": "c5dd1407",
   "metadata": {},
   "source": [
    "python can compare 3 > 10.5, 'apples' > 'oranges'\n",
    "apparently 'apples' > 'oranges' returns False. because letters are internally represented as numbers???\n",
    "will go through this later probably\n",
    "\n",
    "python cannot compare 3 > 'apples' (got integer and string)"
   ]
  },
  {
   "cell_type": "markdown",
   "id": "77a55f35",
   "metadata": {},
   "source": [
    "# math conditions in python"
   ]
  },
  {
   "cell_type": "markdown",
   "id": "46bea531",
   "metadata": {},
   "source": [
    "|Condition|Python Symbol|\n",
    "|:--|--:|\n",
    "|equal|==|\n",
    "|not equal|!=|\n",
    "|less than|<|\n",
    "|greater than|>|\n",
    "|less than or equal|<=|\n",
    "|greater than or equal|>=|\n",
    "\n",
    "also yay python accepts 5 < x < 15. I dont have to put the and :D"
   ]
  },
  {
   "cell_type": "markdown",
   "id": "8bc5598b",
   "metadata": {},
   "source": [
    "# variable types"
   ]
  },
  {
   "cell_type": "code",
   "execution_count": 6,
   "id": "23b24ef4",
   "metadata": {},
   "outputs": [
    {
     "name": "stdout",
     "output_type": "stream",
     "text": [
      "1 <class 'int'>\n",
      "1.234 <class 'str'>\n",
      "1.234 <class 'float'>\n",
      "1 <class 'int'>\n"
     ]
    }
   ],
   "source": [
    "x = int(1.234)\n",
    "print(x, type(x))\n",
    "\n",
    "y = str(1.234)\n",
    "print(y, type(y))\n",
    "\n",
    "z = float(1.234)\n",
    "print(z, type(z))\n",
    "\n",
    "a = complex(1.234)\n",
    "print(x, type(x))\n",
    "\n",
    "#can convert between variable types just use those functions in the brackets"
   ]
  },
  {
   "cell_type": "markdown",
   "id": "e4d830a5",
   "metadata": {},
   "source": [
    "# Python does roundoff errors :("
   ]
  },
  {
   "cell_type": "code",
   "execution_count": 7,
   "id": "516f20e0",
   "metadata": {},
   "outputs": [
    {
     "data": {
      "text/plain": [
       "False"
      ]
     },
     "execution_count": 7,
     "metadata": {},
     "output_type": "execute_result"
    }
   ],
   "source": [
    "b = 0.1\n",
    "b3 = 0.3\n",
    "b * 3 == b3 #annoyingly enough, this returns False. coz python has roundoff errors ._."
   ]
  },
  {
   "cell_type": "code",
   "execution_count": 8,
   "id": "c66a654d",
   "metadata": {},
   "outputs": [
    {
     "data": {
      "text/plain": [
       "'0.29999999999999999'"
      ]
     },
     "execution_count": 8,
     "metadata": {},
     "output_type": "execute_result"
    }
   ],
   "source": [
    "f'{0.3:.17f}' #this prints 0.3 to 17 decimal places. it doesn't print 0.300000000000 as expected ._."
   ]
  },
  {
   "cell_type": "code",
   "execution_count": 9,
   "id": "4822c835",
   "metadata": {},
   "outputs": [
    {
     "data": {
      "text/plain": [
       "True"
      ]
     },
     "execution_count": 9,
     "metadata": {},
     "output_type": "execute_result"
    }
   ],
   "source": [
    "eps = 1E-10\n",
    "abs(b * 3 - b3) < eps \n",
    "#this correctly returns True. checks if variable is close to expected instead of checking equality"
   ]
  },
  {
   "cell_type": "code",
   "execution_count": 10,
   "id": "74b2d804",
   "metadata": {},
   "outputs": [
    {
     "data": {
      "text/plain": [
       "True"
      ]
     },
     "execution_count": 10,
     "metadata": {},
     "output_type": "execute_result"
    }
   ],
   "source": [
    "import numpy as np\n",
    "\n",
    "np.isclose(b * 3, b3)\n",
    "#can also check with numpy"
   ]
  },
  {
   "cell_type": "markdown",
   "id": "723a5e69",
   "metadata": {},
   "source": [
    "# combine english and variables"
   ]
  },
  {
   "cell_type": "code",
   "execution_count": 11,
   "id": "286a3b06",
   "metadata": {},
   "outputs": [
    {
     "name": "stdout",
     "output_type": "stream",
     "text": [
      "Hello Samantha\n"
     ]
    }
   ],
   "source": [
    "name = 'Samantha'\n",
    "print(f'Hello {name}') #use the curly brackets"
   ]
  },
  {
   "cell_type": "code",
   "execution_count": 15,
   "id": "bc3f6114",
   "metadata": {},
   "outputs": [
    {
     "name": "stdout",
     "output_type": "stream",
     "text": [
      "Hello SAMANTHA\n"
     ]
    }
   ],
   "source": [
    "print(f'Hello {name.upper()}') # .upper() capitalises everything"
   ]
  },
  {
   "cell_type": "code",
   "execution_count": 17,
   "id": "651df53b",
   "metadata": {},
   "outputs": [
    {
     "name": "stdout",
     "output_type": "stream",
     "text": [
      "No need to shout samantha i can hear you\n"
     ]
    }
   ],
   "source": [
    "shoutingname = 'SAMANTHA'\n",
    "print(f'No need to shout {name.lower()} i can hear you') # .lower() exists too"
   ]
  },
  {
   "cell_type": "code",
   "execution_count": 18,
   "id": "e054bcf8",
   "metadata": {},
   "outputs": [
    {
     "name": "stdout",
     "output_type": "stream",
     "text": [
      "the value of 10 squared is 100\n"
     ]
    }
   ],
   "source": [
    "x = 10\n",
    "print(f'the value of {x} squared is {x**2}') #ooh this works with numbers too :D"
   ]
  },
  {
   "cell_type": "markdown",
   "id": "17086c64",
   "metadata": {},
   "source": [
    "tis called the f-string. see the f '{}' also called string interpolation"
   ]
  },
  {
   "cell_type": "markdown",
   "id": "8da2861b",
   "metadata": {},
   "source": [
    "# formatting f strings"
   ]
  },
  {
   "cell_type": "code",
   "execution_count": 19,
   "id": "d6a72aba",
   "metadata": {},
   "outputs": [
    {
     "name": "stdout",
     "output_type": "stream",
     "text": [
      "         Bruce Wayne is Batman\n",
      "    Bruce Wayne is Batman     \n",
      "Bruce Wayne is Batman         \n"
     ]
    }
   ],
   "source": [
    "text = 'Bruce Wayne is Batman'\n",
    "\n",
    "print(f'{text:>30}') #align right for a block of 30 characters\n",
    "print(f'{text:^30}') #align centre\n",
    "print(f'{text:<30}') #align left"
   ]
  },
  {
   "cell_type": "code",
   "execution_count": 22,
   "id": "5a5182f1",
   "metadata": {},
   "outputs": [
    {
     "name": "stdout",
     "output_type": "stream",
     "text": [
      "The cube of pi to 6dp is 31.006277\n",
      "The cube of pi to 6dp is 3.100628e+01\n"
     ]
    }
   ],
   "source": [
    "print(f'The cube of pi to 6dp is {np.pi**3:.6f}') #f in .6f tells the fstring to output number in decimal notation\n",
    "print(f'The cube of pi to 6dp is {np.pi**3:.6e}') #e in .6e tells the fstring to output number in scientific notation"
   ]
  },
  {
   "cell_type": "markdown",
   "id": "f2812a84",
   "metadata": {},
   "source": [
    "|letter|action|options|\n",
    "|:--|:--:|--:|\n",
    "|X|variable to format|number or string|\n",
    "|>| alignment|see above example|\n",
    "|0|use 0 to pad spaces|any other character can|\n",
    "|Y|total number of characters|NA|\n",
    "|Z|number of decimal places|NA|\n",
    "|W|specify variable type|see below|"
   ]
  },
  {
   "cell_type": "raw",
   "id": "7bf0af7c",
   "metadata": {},
   "source": [
    "f (float)\n",
    "d (integer)\n",
    "s (string)\n",
    "g (ask python to figure it out HAHAHAHA)"
   ]
  },
  {
   "cell_type": "markdown",
   "id": "685a6635",
   "metadata": {},
   "source": [
    "# escape sequences\n",
    "basically we use these when we want to add special characters"
   ]
  },
  {
   "cell_type": "code",
   "execution_count": 23,
   "id": "d53bef86",
   "metadata": {},
   "outputs": [
    {
     "name": "stdout",
     "output_type": "stream",
     "text": [
      "Line 1\n",
      "\tLine 2\n",
      "\t\tLine 3\n"
     ]
    }
   ],
   "source": [
    "print('Line 1\\n\\tLine 2\\n\\t\\tLine 3')"
   ]
  },
  {
   "cell_type": "raw",
   "id": "874fa3ab",
   "metadata": {},
   "source": [
    "\\' : single quote\n",
    "\\\\ : backslash\n",
    "\\n : newline\n",
    "\\t: horizontal tab"
   ]
  },
  {
   "cell_type": "code",
   "execution_count": 26,
   "id": "5bf470ff",
   "metadata": {},
   "outputs": [
    {
     "name": "stdout",
     "output_type": "stream",
     "text": [
      "You're is not the same as your\n",
      "A\\B\\C\n",
      "A\n",
      "B\n",
      "C\n",
      "A\tB\tC\n"
     ]
    }
   ],
   "source": [
    "print('You\\'re is not the same as your') #prints you're\n",
    "print('A\\\\B\\\\C') #prints A\\B\\C\n",
    "print('A\\nB\\nC') #makes new lines\n",
    "print('A\\tB\\tC') #adds tabs"
   ]
  },
  {
   "cell_type": "code",
   "execution_count": 27,
   "id": "6d816da9",
   "metadata": {},
   "outputs": [
    {
     "name": "stdout",
     "output_type": "stream",
     "text": [
      "42\n"
     ]
    }
   ],
   "source": [
    "c = 40\n",
    "c = c + 2\n",
    "print(c) #tis a way how to modify variables"
   ]
  },
  {
   "cell_type": "markdown",
   "id": "029de1ee",
   "metadata": {},
   "source": [
    "# shorter nicer syntax"
   ]
  },
  {
   "cell_type": "code",
   "execution_count": 28,
   "id": "e88312c9",
   "metadata": {},
   "outputs": [
    {
     "name": "stdout",
     "output_type": "stream",
     "text": [
      "52\n"
     ]
    }
   ],
   "source": [
    "d = 50\n",
    "d += 2 #same as d = d + 2\n",
    "print(d)\n",
    "\n",
    "#applies for minus, multiply, divide too (- * /)"
   ]
  },
  {
   "cell_type": "markdown",
   "id": "231b64f9",
   "metadata": {},
   "source": [
    "# good practices to do ^.^"
   ]
  },
  {
   "cell_type": "raw",
   "id": "8e8f3583",
   "metadata": {},
   "source": [
    "1. write programs for people, not computers\n",
    "2. make sure software works correctly before optimising it\n",
    "3. document design and purpose of stuff, not the mechanics\n",
    "4. and of course collaborate"
   ]
  },
  {
   "cell_type": "code",
   "execution_count": 29,
   "id": "754a1097",
   "metadata": {},
   "outputs": [
    {
     "name": "stdout",
     "output_type": "stream",
     "text": [
      "Help on built-in function print in module builtins:\n",
      "\n",
      "print(*args, sep=' ', end='\\n', file=None, flush=False)\n",
      "    Prints the values to a stream, or to sys.stdout by default.\n",
      "    \n",
      "    sep\n",
      "      string inserted between values, default a space.\n",
      "    end\n",
      "      string appended after the last value, default a newline.\n",
      "    file\n",
      "      a file-like object (stream); defaults to the current sys.stdout.\n",
      "    flush\n",
      "      whether to forcibly flush the stream.\n",
      "\n"
     ]
    }
   ],
   "source": [
    "#also this exists\n",
    "help(print) \n",
    "#this shows documentation for print. probably not gonna use this coz i dont really get it.\n",
    "#stack overflow better for finding documentation lol"
   ]
  }
 ],
 "metadata": {
  "kernelspec": {
   "display_name": "Python 3 (ipykernel)",
   "language": "python",
   "name": "python3"
  },
  "language_info": {
   "codemirror_mode": {
    "name": "ipython",
    "version": 3
   },
   "file_extension": ".py",
   "mimetype": "text/x-python",
   "name": "python",
   "nbconvert_exporter": "python",
   "pygments_lexer": "ipython3",
   "version": "3.11.5"
  },
  "toc": {
   "base_numbering": 1,
   "nav_menu": {},
   "number_sections": true,
   "sideBar": true,
   "skip_h1_title": false,
   "title_cell": "Table of Contents",
   "title_sidebar": "Contents",
   "toc_cell": false,
   "toc_position": {},
   "toc_section_display": true,
   "toc_window_display": false
  },
  "varInspector": {
   "cols": {
    "lenName": 16,
    "lenType": 16,
    "lenVar": 40
   },
   "kernels_config": {
    "python": {
     "delete_cmd_postfix": "",
     "delete_cmd_prefix": "del ",
     "library": "var_list.py",
     "varRefreshCmd": "print(var_dic_list())"
    },
    "r": {
     "delete_cmd_postfix": ") ",
     "delete_cmd_prefix": "rm(",
     "library": "var_list.r",
     "varRefreshCmd": "cat(var_dic_list()) "
    }
   },
   "types_to_exclude": [
    "module",
    "function",
    "builtin_function_or_method",
    "instance",
    "_Feature"
   ],
   "window_display": false
  }
 },
 "nbformat": 4,
 "nbformat_minor": 5
}
