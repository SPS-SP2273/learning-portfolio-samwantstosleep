{
 "cells": [
  {
   "cell_type": "markdown",
   "id": "43809f27",
   "metadata": {},
   "source": [
    "# making your own named function :D"
   ]
  },
  {
   "cell_type": "code",
   "execution_count": 1,
   "id": "40710540",
   "metadata": {},
   "outputs": [
    {
     "data": {
      "text/plain": [
       "'Hello TA! ^.^'"
      ]
     },
     "execution_count": 1,
     "metadata": {},
     "output_type": "execute_result"
    }
   ],
   "source": [
    "def hello(name):\n",
    "    if name == 'Dr Chammika':\n",
    "        return 'wow you\\'re checking my notebook. HI'\n",
    "    else:\n",
    "        return f'Hello {name}! ^.^'\n",
    "    \n",
    "hello('TA')\n",
    "#return is only used for functions"
   ]
  },
  {
   "cell_type": "code",
   "execution_count": 2,
   "id": "d88a0ea2",
   "metadata": {},
   "outputs": [
    {
     "data": {
      "text/plain": [
       "(2, 57, 15.6, 78)"
      ]
     },
     "execution_count": 2,
     "metadata": {},
     "output_type": "execute_result"
    }
   ],
   "source": [
    "import numpy as np\n",
    "\n",
    "def math_stuff(numbers):\n",
    "    arrray = np.array(numbers)\n",
    "    miin = arrray.min()\n",
    "    maax = arrray.max()\n",
    "    meean = arrray.mean()\n",
    "    suum = arrray.sum()\n",
    "    return miin, maax, meean, suum\n",
    "\n",
    "math_stuff([2,4,12,57,3])"
   ]
  },
  {
   "cell_type": "markdown",
   "id": "dde8643e",
   "metadata": {},
   "source": [
    "## anonymous functions\n",
    "for short one-liners. also known as lambda functions"
   ]
  },
  {
   "cell_type": "code",
   "execution_count": 3,
   "id": "bca06c47",
   "metadata": {},
   "outputs": [
    {
     "data": {
      "text/plain": [
       "'Hi TA that is marking this!'"
      ]
     },
     "execution_count": 3,
     "metadata": {},
     "output_type": "execute_result"
    }
   ],
   "source": [
    "smallfunc = lambda hii: f'Hi {hii}!'\n",
    "smallfunc(hii = \"TA that is marking this\")\n",
    "#tis not a great example of an anonymous function"
   ]
  },
  {
   "cell_type": "code",
   "execution_count": 4,
   "id": "dae771dd",
   "metadata": {},
   "outputs": [
    {
     "data": {
      "text/plain": [
       "[[0, 9, -19],\n",
       " [1, 8, -18],\n",
       " [2, 7, -17],\n",
       " [3, 6, -16],\n",
       " [4, 5, -15],\n",
       " [5, 4, -14],\n",
       " [6, 3, -13],\n",
       " [7, 2, -12],\n",
       " [8, 1, -11],\n",
       " [9, 0, -10]]"
      ]
     },
     "execution_count": 4,
     "metadata": {},
     "output_type": "execute_result"
    }
   ],
   "source": [
    "numbers=[[9, 0, -10],\n",
    "         [8, 1, -11],\n",
    "         [7, 2, -12],\n",
    "         [6, 3, -13],\n",
    "         [5, 4, -14],\n",
    "         [4, 5, -15],\n",
    "         [3, 6, -16],\n",
    "         [2, 7, -17],\n",
    "         [1, 8, -18],\n",
    "         [0, 9, -19]]\n",
    "\n",
    "sorted(numbers)\n",
    "#this compares the first element (index 0)"
   ]
  },
  {
   "cell_type": "code",
   "execution_count": 7,
   "id": "d497feb8",
   "metadata": {},
   "outputs": [
    {
     "name": "stdout",
     "output_type": "stream",
     "text": [
      "[[9, 0, -10], [8, 1, -11], [7, 2, -12], [6, 3, -13], [5, 4, -14], [4, 5, -15], [3, 6, -16], [2, 7, -17], [1, 8, -18], [0, 9, -19]]\n"
     ]
    },
    {
     "data": {
      "text/plain": [
       "[[0, 9, -19],\n",
       " [1, 8, -18],\n",
       " [2, 7, -17],\n",
       " [3, 6, -16],\n",
       " [4, 5, -15],\n",
       " [5, 4, -14],\n",
       " [6, 3, -13],\n",
       " [7, 2, -12],\n",
       " [8, 1, -11],\n",
       " [9, 0, -10]]"
      ]
     },
     "execution_count": 7,
     "metadata": {},
     "output_type": "execute_result"
    }
   ],
   "source": [
    "print(sorted(numbers, key=lambda x: x[1]))\n",
    "#this compares the second element (index 1)\n",
    "sorted(numbers, key=lambda x:sum(x))\n",
    "#this sorts the sum"
   ]
  },
  {
   "cell_type": "markdown",
   "id": "824e8ecc",
   "metadata": {},
   "source": [
    "# optional arguments"
   ]
  },
  {
   "cell_type": "code",
   "execution_count": 8,
   "id": "75809efb",
   "metadata": {},
   "outputs": [
    {
     "data": {
      "text/plain": [
       "'Hello no one!'"
      ]
     },
     "execution_count": 8,
     "metadata": {},
     "output_type": "execute_result"
    }
   ],
   "source": [
    "def greeting(name='no one'):\n",
    "    if name == 'Sam':\n",
    "        return 'Hello fellow Sam :D'\n",
    "    else:\n",
    "        return f'Hello {name}!'\n",
    "greeting() #function runs even with no argument    "
   ]
  },
  {
   "cell_type": "code",
   "execution_count": 11,
   "id": "d3ec952e",
   "metadata": {},
   "outputs": [
    {
     "name": "stdout",
     "output_type": "stream",
     "text": [
      "I---like---potatoes\n"
     ]
    }
   ],
   "source": [
    "?print \n",
    "#ooh cool it shows other stuff print can do\n",
    "#the sep thing is kinda cool\n",
    "\n",
    "print('I', 'like', 'potatoes', sep = '---')"
   ]
  },
  {
   "cell_type": "markdown",
   "id": "0c7b1d95",
   "metadata": {},
   "source": [
    "# pros/cons about functions"
   ]
  },
  {
   "cell_type": "markdown",
   "id": "af632842",
   "metadata": {},
   "source": [
    "## the pros\n",
    "- no need to constantly copy paste the same lines of codes. just write it once when defining the function, then call on said function :D\n",
    "- code will look so much neater\n",
    "\n",
    "## the cons\n",
    "- it's kinda hard to check if functions work properly you have to call on them outside. if there's something wrong with the function and it's called upon the computer will freak out\n",
    "- but then again this could be easily solved by writing/running the code first to make sure it works, then copy paste it into a function. "
   ]
  }
 ],
 "metadata": {
  "kernelspec": {
   "display_name": "Python 3 (ipykernel)",
   "language": "python",
   "name": "python3"
  },
  "language_info": {
   "codemirror_mode": {
    "name": "ipython",
    "version": 3
   },
   "file_extension": ".py",
   "mimetype": "text/x-python",
   "name": "python",
   "nbconvert_exporter": "python",
   "pygments_lexer": "ipython3",
   "version": "3.11.5"
  },
  "toc": {
   "base_numbering": 1,
   "nav_menu": {},
   "number_sections": true,
   "sideBar": true,
   "skip_h1_title": false,
   "title_cell": "Table of Contents",
   "title_sidebar": "Contents",
   "toc_cell": false,
   "toc_position": {},
   "toc_section_display": true,
   "toc_window_display": false
  },
  "varInspector": {
   "cols": {
    "lenName": 16,
    "lenType": 16,
    "lenVar": 40
   },
   "kernels_config": {
    "python": {
     "delete_cmd_postfix": "",
     "delete_cmd_prefix": "del ",
     "library": "var_list.py",
     "varRefreshCmd": "print(var_dic_list())"
    },
    "r": {
     "delete_cmd_postfix": ") ",
     "delete_cmd_prefix": "rm(",
     "library": "var_list.r",
     "varRefreshCmd": "cat(var_dic_list()) "
    }
   },
   "types_to_exclude": [
    "module",
    "function",
    "builtin_function_or_method",
    "instance",
    "_Feature"
   ],
   "window_display": false
  }
 },
 "nbformat": 4,
 "nbformat_minor": 5
}
