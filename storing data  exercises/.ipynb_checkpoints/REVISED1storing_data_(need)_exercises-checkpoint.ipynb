{
 "cells": [
  {
   "cell_type": "markdown",
   "id": "123456",
   "metadata": {},
   "source": [
    "<div style=\"text-align:left;font-size:2em\"><span style=\"font-weight:bolder;font-size:1.25em\">SP2273 | Learning Portfolio</span><br><br><span style=\"font-weight:bold;color:darkred\">Storing Data (Need) Exercises</span></div>"
   ]
  },
  {
   "cell_type": "markdown",
   "id": "200189f3",
   "metadata": {},
   "source": [
    "## Exercise 1 (try to recall)\n",
    "italic those i cant remember"
   ]
  },
  {
   "cell_type": "markdown",
   "id": "c5093b5b",
   "metadata": {},
   "source": [
    "1. two similarities between lists and arrays\n",
    "- both can do basic python math functions (sum,min,max)\n",
    "- ??? (both elements can be accessed by indexing)\n",
    "2. two differences between lists and arrays\n",
    "- lists can hold multiple variable types. arrays can only hold one type\n",
    "- when 2 lists are added together, list increases in number of objects inside it (list size increases). when 2 arrays are added together, each value in the array gets added to each other (size remains same)\n",
    "- lists can't do math dot functions like sqrt, but arrays can\n",
    "- *lists can't be squared, arrays can*\n",
    "- *when lists are multiplied, size gets multiplied by x. but for array each value is multiplied*\n",
    "- *can't ask a list questions, but can for arrays)*"
   ]
  },
  {
   "cell_type": "raw",
   "id": "1a5c9772",
   "metadata": {},
   "source": [
    "3. ???\n",
    "\n",
    "Hint: How can you access the elements within a list and an array?\n",
    "oh yeah both elements can be accessed by indexing :D\n",
    "\n",
    "10. can't ask a list questions, but can for arrays\n",
    "Refer to my comments in the Storing Data (Need) notebook regarding this point."
   ]
  },
  {
   "cell_type": "markdown",
   "id": "2da55d72",
   "metadata": {},
   "source": [
    "## Exercise 2 (indexing)"
   ]
  },
  {
   "cell_type": "code",
   "execution_count": 1,
   "id": "264b6f34",
   "metadata": {},
   "outputs": [
    {
     "name": "stdout",
     "output_type": "stream",
     "text": [
      "a1\n",
      "c3\n",
      "e5\n",
      "g7\n",
      "i9\n"
     ]
    }
   ],
   "source": [
    "py_list = [\"a1\", \"b2\", \"c3\", \"d4\", \"e5\", \"f6\", \"g7\", \"h8\", \"i9\", \"j10\"]\n",
    "print(py_list[0]) # Prints 'a1'\n",
    "print(py_list[2]) # Prints 'c3'\n",
    "print(py_list[4]) # Prints 'e5'\n",
    "print(py_list[6]) # Prints 'g7'\n",
    "print(py_list[8]) # Prints 'i9'"
   ]
  },
  {
   "cell_type": "markdown",
   "id": "95e2dbeb",
   "metadata": {},
   "source": [
    "## Exercise 3 (more indexing)"
   ]
  },
  {
   "cell_type": "code",
   "execution_count": 2,
   "id": "c1c53662",
   "metadata": {},
   "outputs": [
    {
     "name": "stdout",
     "output_type": "stream",
     "text": [
      "Boron\n",
      "Boron\n"
     ]
    }
   ],
   "source": [
    "elements = ['Hydrogen',\n",
    "            'Helium', 'Lithium',\n",
    "            'Beryllium', 'Boron', 'Carbon',\n",
    "            'Nitrogen', 'Oxygen',\n",
    "            'Fluorine',\n",
    "            'Neon']\n",
    "\n",
    "print(elements[4])\n",
    "print(elements[-6])"
   ]
  },
  {
   "cell_type": "markdown",
   "id": "7a90e303",
   "metadata": {},
   "source": [
    "## Exercise 4 (find how many 1s in the list)"
   ]
  },
  {
   "cell_type": "code",
   "execution_count": 3,
   "id": "c8c0ef6e",
   "metadata": {},
   "outputs": [
    {
     "name": "stdout",
     "output_type": "stream",
     "text": [
      "[False False  True False False  True False False False  True False False\n",
      " False False False False False  True  True False False False False False\n",
      " False False False False  True False  True False False False False False\n",
      "  True False False False False False False  True False False False False\n",
      " False False  True]\n"
     ]
    }
   ],
   "source": [
    "numbers=np.array([45, 60, 1, 30, 96, 1, 96, 57, 16, 1,\n",
    "        99, 62, 86, 43, 42, 60, 59, 1, 1, 35,\n",
    "        83, 47, 34, 28, 68, 23, 22, 92, 1, 79,\n",
    "        1, 29, 94, 72, 46, 47, 1, 74, 32, 20,\n",
    "        8, 37, 35, 1, 89, 29, 86, 19, 43, 61, 1.0]) \n",
    "\n",
    "y = numbers == 1\n",
    "sum(y) #there are nine 1s in there\n",
    "print(y)\n",
    "\n",
    "#it says ten because i added a 1.0 out of curiosity"
   ]
  },
  {
   "cell_type": "code",
   "execution_count": 1,
   "id": "c2d21492",
   "metadata": {},
   "outputs": [
    {
     "name": "stdout",
     "output_type": "stream",
     "text": [
      "10\n"
     ]
    }
   ],
   "source": [
    "#can't we just use a for loop?\n",
    "\n",
    "numbers=[45, 60, 1, 30, 96, 1, 96, 57, 16, 1,\n",
    "        99, 62, 86, 43, 42, 60, 59, 1, 1, 35,\n",
    "        83, 47, 34, 28, 68, 23, 22, 92, 1, 79,\n",
    "        1, 29, 94, 72, 46, 47, 1, 74, 32, 20,\n",
    "        8, 37, 35, 1, 89, 29, 86, 19, 43, 61, 1.0]                  \n",
    "\n",
    "check = 0\n",
    "for number in numbers:\n",
    "    if number == 1:\n",
    "        check += 1\n",
    "    else:\n",
    "        check += 0\n",
    "\n",
    "print(check) #there are nine 1s in there    \n",
    "\n",
    "#it says ten because i added a 1.0 out of curiosity"
   ]
  },
  {
   "cell_type": "raw",
   "id": "1b011b95",
   "metadata": {},
   "source": [
    "You can use a for loop to do this too. Consider the differences in how they achieve the same result.\n",
    "\n",
    "well one gets the 1s by masking and the other method gets the 1s by reiterating through the list multiple times\n",
    "was curious so i added 1.0 a float to see whether one method wouldn't count it but both methods count it\n",
    "\n",
    "i suppose masking can be more useful because if let's say i just want odd numbers then i can print them but doing that with a for loop i gotta add a different new condition (number%2==1)"
   ]
  }
 ],
 "metadata": {
  "kernelspec": {
   "display_name": "Python 3 (ipykernel)",
   "language": "python",
   "name": "python3"
  },
  "language_info": {
   "codemirror_mode": {
    "name": "ipython",
    "version": 3
   },
   "file_extension": ".py",
   "mimetype": "text/x-python",
   "name": "python",
   "nbconvert_exporter": "python",
   "pygments_lexer": "ipython3",
   "version": "3.11.5"
  },
  "toc": {
   "base_numbering": 1,
   "nav_menu": {},
   "number_sections": true,
   "sideBar": true,
   "skip_h1_title": false,
   "title_cell": "Table of Contents",
   "title_sidebar": "Contents",
   "toc_cell": false,
   "toc_position": {},
   "toc_section_display": true,
   "toc_window_display": false
  },
  "varInspector": {
   "cols": {
    "lenName": 16,
    "lenType": 16,
    "lenVar": 40
   },
   "kernels_config": {
    "python": {
     "delete_cmd_postfix": "",
     "delete_cmd_prefix": "del ",
     "library": "var_list.py",
     "varRefreshCmd": "print(var_dic_list())"
    },
    "r": {
     "delete_cmd_postfix": ") ",
     "delete_cmd_prefix": "rm(",
     "library": "var_list.r",
     "varRefreshCmd": "cat(var_dic_list()) "
    }
   },
   "types_to_exclude": [
    "module",
    "function",
    "builtin_function_or_method",
    "instance",
    "_Feature"
   ],
   "window_display": false
  },
  "vscode": {
   "interpreter": {
    "hash": "31f2aee4e71d21fbe5cf8b01ff0e069b9275f58929596ceb00d14d90e3e16cd6"
   }
  }
 },
 "nbformat": 4,
 "nbformat_minor": 5
}
