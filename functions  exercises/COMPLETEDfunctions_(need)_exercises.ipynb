{
 "cells": [
  {
   "cell_type": "markdown",
   "id": "123456",
   "metadata": {},
   "source": [
    "<div style=\"text-align:left;font-size:2em\"><span style=\"font-weight:bolder;font-size:1.25em\">SP2273 | Learning Portfolio</span><br><br><span style=\"font-weight:bold;color:darkred\">Functions (Need) Exercises</span></div>"
   ]
  },
  {
   "cell_type": "markdown",
   "id": "042c0b4f",
   "metadata": {},
   "source": [
    "## Exercise 1 (explain why that code works)"
   ]
  },
  {
   "cell_type": "code",
   "execution_count": 1,
   "id": "b50494e2",
   "metadata": {},
   "outputs": [
    {
     "data": {
      "text/plain": [
       "'Hello the TA reviewing this!'"
      ]
     },
     "execution_count": 1,
     "metadata": {},
     "output_type": "execute_result"
    }
   ],
   "source": [
    "def greeting(name):\n",
    "    if name == 'Batman':\n",
    "        return 'Hello Batman! So, nice to meet you!'\n",
    "    return f'Hello {name}!'\n",
    "\n",
    "greeting('the TA reviewing this')\n",
    "# this works because the return statement that returns hello {name} effectively works as an else statement"
   ]
  },
  {
   "cell_type": "markdown",
   "id": "0890a43c",
   "metadata": {},
   "source": [
    "## Exercise 2 (chubby or not ._.)"
   ]
  },
  {
   "cell_type": "code",
   "execution_count": 2,
   "id": "e8343b93",
   "metadata": {},
   "outputs": [
    {
     "name": "stdout",
     "output_type": "stream",
     "text": [
      "input weight in kg, height in m or else you would get funny results\n",
      "Person is underweight :(\n",
      "\n",
      "\n",
      "input weight in kg, height in m or else you would get funny results\n",
      "Person has normal weight ^.^\n",
      "\n",
      "\n",
      "input weight in kg, height in m or else you would get funny results\n",
      "put numbers, and height cannot be 0 >:(\n",
      "\n",
      "\n",
      "input weight in kg, height in m or else you would get funny results\n",
      "put numbers, and height cannot be 0 >:(\n"
     ]
    }
   ],
   "source": [
    "def calculate_bmi(weight, height):\n",
    "    print('input weight in kg, height in m or else you would get funny results')\n",
    "    try:\n",
    "        weight = float(weight)\n",
    "        height = float(height)\n",
    "        if height == 0:\n",
    "            raise ValueError() #went insane over the zero division error...\n",
    "    except ValueError:\n",
    "        return \"put numbers, and height cannot be 0 >:(\"\n",
    "    bmi = weight / (height ** 2)\n",
    "    \n",
    "    if bmi < 18.5:\n",
    "        return \"Person is underweight :(\"\n",
    "    elif 18.5 <= bmi < 25:\n",
    "        return \"Person has normal weight ^.^\"\n",
    "    elif 25 <= bmi < 30:\n",
    "        return \"Person is overweight ._.\"\n",
    "    else:\n",
    "        return \"Person is obese :(\"\n",
    "\n",
    "print(calculate_bmi(3,4))\n",
    "print('\\n')\n",
    "print(calculate_bmi(45, 1.5))\n",
    "print('\\n')\n",
    "print(calculate_bmi('eh','testing'))\n",
    "print('\\n')\n",
    "print(calculate_bmi(5,0))"
   ]
  }
 ],
 "metadata": {
  "kernelspec": {
   "display_name": "Python 3 (ipykernel)",
   "language": "python",
   "name": "python3"
  },
  "language_info": {
   "codemirror_mode": {
    "name": "ipython",
    "version": 3
   },
   "file_extension": ".py",
   "mimetype": "text/x-python",
   "name": "python",
   "nbconvert_exporter": "python",
   "pygments_lexer": "ipython3",
   "version": "3.11.5"
  },
  "toc": {
   "base_numbering": 1,
   "nav_menu": {},
   "number_sections": true,
   "sideBar": true,
   "skip_h1_title": false,
   "title_cell": "Table of Contents",
   "title_sidebar": "Contents",
   "toc_cell": false,
   "toc_position": {},
   "toc_section_display": true,
   "toc_window_display": false
  },
  "varInspector": {
   "cols": {
    "lenName": 16,
    "lenType": 16,
    "lenVar": 40
   },
   "kernels_config": {
    "python": {
     "delete_cmd_postfix": "",
     "delete_cmd_prefix": "del ",
     "library": "var_list.py",
     "varRefreshCmd": "print(var_dic_list())"
    },
    "r": {
     "delete_cmd_postfix": ") ",
     "delete_cmd_prefix": "rm(",
     "library": "var_list.r",
     "varRefreshCmd": "cat(var_dic_list()) "
    }
   },
   "types_to_exclude": [
    "module",
    "function",
    "builtin_function_or_method",
    "instance",
    "_Feature"
   ],
   "window_display": false
  },
  "vscode": {
   "interpreter": {
    "hash": "31f2aee4e71d21fbe5cf8b01ff0e069b9275f58929596ceb00d14d90e3e16cd6"
   }
  }
 },
 "nbformat": 4,
 "nbformat_minor": 5
}
